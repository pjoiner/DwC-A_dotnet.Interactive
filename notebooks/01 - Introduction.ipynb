{
  "cells": [
    {
      "cell_type": "markdown",
      "metadata": {},
      "source": [
        "# Using DwC-A_dotnet.Interactive\r\n",
        "\r\n",
        "This notebook describes how to use DwC-A_dotnet and DwC-A_dotnet.Interactive to interactively work with Darwin Core Archive files.\r\n",
        "\r\n",
        "Information on the dotnet libraries used here may be found at \r\n",
        "\r\n",
        "|Library|Link|\r\n",
        "|---|---|\r\n",
        "|DwC-A_dotnet|https://github.com/pjoiner/DwC-A_dotnet|\r\n",
        "|DwC-A_dotnet.Interactive|https://github.com/pjoiner/DwC-A_dotnet.Interactive|\r\n",
        "\r\n",
        "Information on Darwin Core Archives may be found [here](https://dwc.tdwg.org/)."
      ]
    },
    {
      "cell_type": "markdown",
      "metadata": {},
      "source": [
        "## Installation\n",
        "\n",
        "Use the #r magic command to install the libraries from NuGet."
      ]
    },
    {
      "cell_type": "code",
      "execution_count": null,
      "metadata": {
        "dotnet_interactive": {
          "language": "csharp"
        }
      },
      "outputs": [],
      "source": [
        "#r \"nuget:DwC-A_dotnet,0.5.1\"\r\n",
        "#r \"nuget:DwC-A_dotnet.Interactive,0.1.4-Pre\"\r\n"
      ]
    },
    {
      "cell_type": "markdown",
      "metadata": {},
      "source": [
        "## Open An Archive\n",
        "Use the `ArchiveReader` class to open the archive and provide the path to your archive.  It is recommended that the archive be unzipped to a directory first to reduce the overhead of creating a temporary folder to unzip the archive.  If you use the zip file remember to dispose of the temporary working directory at the end of you session by calling `archive.Dispose();`"
      ]
    },
    {
      "cell_type": "code",
      "execution_count": 1,
      "metadata": {
        "dotnet_interactive": {
          "language": "csharp"
        }
      },
      "outputs": [],
      "source": [
        "using DwC_A;\r\n",
        "using System.IO.Compression;\r\n",
        "using System.IO;\r\n",
        "\r\n",
        "Directory.Delete(\"./data/dwca-rooftop-v1.4\", true);\r\n",
        "ZipFile.ExtractToDirectory(\"./data/dwca-rooftop-v1.4.zip\", \"./data/dwca-rooftop-v1.4\");\r\n",
        "var archive = new ArchiveReader(@\"./data/dwca-rooftop-v1.4\");"
      ]
    },
    {
      "cell_type": "markdown",
      "metadata": {},
      "source": [
        "## Archive MetaData\n",
        "The interactive extensions library (`DwC-A_dotnet.Interactive`) registers kernel extensions to display various archive metadata by simply entering MetaData at the end of a cell.  The same can be done for an `IFileReader` instance to get a list of the term metadata."
      ]
    },
    {
      "cell_type": "code",
      "execution_count": null,
      "metadata": {
        "dotnet_interactive": {
          "language": "csharp"
        }
      },
      "outputs": [],
      "source": [
        "archive.MetaData"
      ]
    },
    {
      "cell_type": "code",
      "execution_count": null,
      "metadata": {
        "dotnet_interactive": {
          "language": "csharp"
        }
      },
      "outputs": [],
      "source": [
        "archive.CoreFile"
      ]
    },
    {
      "cell_type": "code",
      "execution_count": null,
      "metadata": {
        "dotnet_interactive": {
          "language": "csharp"
        }
      },
      "outputs": [],
      "source": [
        "archive.Extensions.GetFileReaderByFileName(\"occurrence.txt\")"
      ]
    },
    {
      "cell_type": "markdown",
      "metadata": {},
      "source": [
        "## Query Data Using LinQ\n",
        "\n",
        "The following cell uses LinQ to gather a list of total individual counts of each genus for a specific sampling event.  Change the number in the `.Skip(1)` line to see totals calculated for other events. "
      ]
    },
    {
      "cell_type": "code",
      "execution_count": null,
      "metadata": {},
      "outputs": [],
      "source": [
        "using DwC_A.Terms;\r\n",
        "\r\n",
        "//Retrieve the eventID from the event data file\r\n",
        "var eventID = archive.CoreFile.DataRows\r\n",
        "    .Skip(5)  //Change this number and run the cell again and to see the chart for a new eventID\r\n",
        "    .Take(1)\r\n",
        "    .First()[Terms.eventID];\r\n",
        "\r\n",
        "//Get an IFileReader for the occurrence data file\r\n",
        "var occurrences = archive.Extensions.GetFileReaderByFileName(\"occurrence.txt\");\r\n",
        "\r\n",
        "var data = occurrences.DataRows\r\n",
        "    .Where(n => n[Terms.eventID] == eventID)\r\n",
        "    .GroupBy(n => n[Terms.genus])\r\n",
        "    .Select(g => new{\r\n",
        "        Genus = g.Key,\r\n",
        "        Count = g.Sum(c => int.Parse(c[Terms.individualCount])) \r\n",
        "    }); \r\n",
        "\r\n",
        "data"
      ]
    }
  ],
  "metadata": {
    "kernelspec": {
      "display_name": ".NET (C#)",
      "language": "C#",
      "name": ".net-csharp"
    },
    "language_info": {
      "file_extension": ".cs",
      "mimetype": "text/x-csharp",
      "name": "csharp",
      "pygments_lexer": "csharp",
      "version": "8.0"
    }
  },
  "nbformat": 4,
  "nbformat_minor": 4
}