{
  "cells": [
    {
      "cell_type": "markdown",
      "metadata": {},
      "source": [
        "# Using DataFrame and Plotly\n",
        "\n",
        "This notebook demonstrates using [DwC-A_dotnet](https://github.com/pjoiner/DwC-A_dotnet) with the [Microsoft.Data.Analysis](https://github.com/dotnet/machinelearning) framework and [XPlot Plotly](https://www.nuget.org/packages/XPlot.Plotly/). \n",
        "\n",
        "First we'll load the required libraries."
      ]
    },
    {
      "cell_type": "code",
      "execution_count": 1,
      "metadata": {
        "dotnet_interactive": {
          "language": "csharp"
        }
      },
      "source": [
        "#r \"nuget: XPlot.Plotly, 4.0.6\"\n",
        "#r \"nuget: XPlot.Plotly.Interactive, 4.0.6\"\n",
        "#r \"nuget: Microsoft.Data.Analysis, 0.19.0\"\n",
        "#r \"nuget: DwC-A_dotnet, 0.6.0\"\n",
        "#r \"nuget: DwC-a_dotnet.Interactive, 0.1.8-Pre\""
      ],
      "outputs": []
    },
    {
      "cell_type": "markdown",
      "metadata": {},
      "source": [
        "## Formatting DataFrame for Display\n",
        "\n",
        "The following cell is used to register a DataFrame formatter for subsequent opterations so we can display our DateFrame objects."
      ]
    },
    {
      "cell_type": "code",
      "execution_count": 1,
      "metadata": {
        "dotnet_interactive": {
          "language": "csharp"
        }
      },
      "source": [
        "using Microsoft.AspNetCore.Html;\n",
        "using Microsoft.DotNet.Interactive.Formatting;\n",
        "using Microsoft.Data.Analysis;\n",
        "\n",
        "using static Microsoft.DotNet.Interactive.Formatting.PocketViewTags;\n",
        "\n",
        "Formatter.Register<DataFrame>((df, writer) =>\n",
        "{\n",
        "    var headers = new List<IHtmlContent>();\n",
        "    headers.Add(th(i(\"index\")));\n",
        "    headers.AddRange(df.Columns.Select(c => (IHtmlContent) th(c.Name)));\n",
        "    var rows = new List<List<IHtmlContent>>();\n",
        "    var take = 20;\n",
        "    for (var i = 0; i < Math.Min(take, df.Rows.Count); i++)\n",
        "    {\n",
        "        var cells = new List<IHtmlContent>();\n",
        "        cells.Add(td(i));\n",
        "        foreach (var obj in df.Rows[i])\n",
        "        {\n",
        "            cells.Add(td(obj));\n",
        "        }\n",
        "        rows.Add(cells);\n",
        "    }\n",
        "\n",
        "    var t = table(\n",
        "        thead(\n",
        "            headers),\n",
        "        tbody(\n",
        "            rows.Select(\n",
        "                r => tr(r))));\n",
        "\n",
        "    writer.Write(t);\n",
        "}, \"text/html\");"
      ],
      "outputs": []
    },
    {
      "cell_type": "markdown",
      "metadata": {},
      "source": [
        "## Loading Archive\n",
        "\n",
        "We are going to use our [rooftop data set](https://www.gbif.org/dataset/f506be53-9221-4b44-a41d-5aa0905ec216) and query for the eventID of a sampling event from the CoreFile of the archive."
      ]
    },
    {
      "cell_type": "code",
      "execution_count": 1,
      "metadata": {
        "dotnet_interactive": {
          "language": "csharp"
        }
      },
      "source": [
        "using DwC_A;\n",
        "using DwC_A.Terms;\n",
        "using DwC_A.Config;\n",
        "using DwC_A.Factories;\n",
        "using System.IO;\n",
        "\n",
        "var archiveFile = \"./data/dwca-rooftop-v1.4.zip\";\n",
        "var factory = new DefaultFactory(cfg => {\n",
        "    cfg.Add<ArchiveFolderConfiguration>(cfg => {\n",
        "        cfg.OutputPath = \"./dwca-rooftop-v1.4\";\n",
        "        if(Directory.Exists(cfg.OutputPath)){\n",
        "            Directory.Delete(cfg.OutputPath, true);\n",
        "        }\n",
        "    });\n",
        "});\n",
        "var archive = new ArchiveReader(archiveFile, factory);\n",
        "var eventFile = archive.CoreFile;\n",
        "var occurrence = archive.Extensions.GetFileReaderByFileName(\"occurrence.txt\");\n",
        "\n",
        "var eventID = eventFile.DataRows.Skip(2).Select(row => row[Terms.eventID]).First();\n",
        "display(eventID);"
      ],
      "outputs": []
    },
    {
      "cell_type": "markdown",
      "metadata": {},
      "source": [
        "## Convert IRow Collection to DataFrame\n",
        "\n",
        "Once we have an eventID we can query the occurrence data for that event using LinQ and load the results directly into some DataFrame columns.  We are just creating columns for the species name and count of species from the occurrence data."
      ]
    },
    {
      "cell_type": "code",
      "execution_count": 1,
      "metadata": {
        "dotnet_interactive": {
          "language": "csharp"
        }
      },
      "source": [
        "using Microsoft.Data.Analysis;\n",
        "\n",
        "var species = new StringDataFrameColumn(\"species\", 0);\n",
        "var counts = new PrimitiveDataFrameColumn<int>(\"count\");\n",
        "\n",
        "occurrence.DataRows\n",
        "    .Where(row => row[Terms.eventID] == eventID)\n",
        "    .OrderBy(row => row[Terms.scientificName])\n",
        "    .ToList()\n",
        "    .ForEach(row => {\n",
        "        species.Append(row[Terms.scientificName]);\n",
        "        counts.Append(int.Parse(row[Terms.individualCount]));\n",
        "    });\n",
        "\n",
        "var df = new DataFrame(species, counts);\n",
        "df.Info()"
      ],
      "outputs": []
    },
    {
      "cell_type": "markdown",
      "metadata": {},
      "source": [
        "## Using DataFrame\n",
        "\n",
        "Now we can perform calculations on the data in our DataFrame object.  For example, we can calculate the [Simpson Diversity Index](https://en.wikipedia.org/wiki/Diversity_index) for this sampling event using the following formula.\n",
        "\n",
        "$D = 1 - \\frac {\\sum_{}n(n-1)} {N(N-1)}$"
      ]
    },
    {
      "cell_type": "code",
      "execution_count": 1,
      "metadata": {
        "dotnet_interactive": {
          "language": "csharp"
        }
      },
      "source": [
        "var sum = (int)counts.Sum();\n",
        "double D = 1 - (double)(int)(counts.Apply(n => n * (n - 1)).Sum()) / (sum * (sum - 1));\n",
        "display($\"D = {D:0.00}\")"
      ],
      "outputs": []
    },
    {
      "cell_type": "markdown",
      "metadata": {},
      "source": [
        "## Plotly\n",
        "\n",
        "We can also use XPlot Plotly to display a column chart of our dataset."
      ]
    },
    {
      "cell_type": "code",
      "execution_count": 1,
      "metadata": {
        "dotnet_interactive": {
          "language": "csharp"
        }
      },
      "source": [
        "using XPlot.Plotly;\n",
        "\n",
        "var kvp = df.Rows\n",
        "    .AsEnumerable()\n",
        "    .Select(row => Tuple.Create<string, int>(row[0].ToString(), (int)row[1]));\n",
        "var chart = Chart.Column(kvp);\n",
        "chart.WithTitle($\"Event: {eventID}\");\n",
        "display(chart)"
      ],
      "outputs": []
    }
  ],
  "metadata": {
    "kernelspec": {
      "display_name": ".NET (C#)",
      "language": "C#",
      "name": ".net-csharp"
    },
    "language_info": {
      "file_extension": ".cs",
      "mimetype": "text/x-csharp",
      "name": "C#",
      "pygments_lexer": "csharp",
      "version": "8.0"
    }
  },
  "nbformat": 4,
  "nbformat_minor": 4
}