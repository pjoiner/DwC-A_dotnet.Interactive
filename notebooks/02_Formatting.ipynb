{
  "cells": [
    {
      "cell_type": "markdown",
      "metadata": {},
      "source": [
        "# Formatting Output\n",
        "\n",
        "This notebook gives examples of various ways to visualize or format Darwin Core Archive data using [DwC-A_dotnet](https://github.com/pjoiner/DwC-A_dotnet) and and [DwC-A_dotnet.Interactive](https://github.com/pjoiner/DwC-A_dotnet.Interactive).\n",
        "\n",
        "First, we install the relevant libraries from Nuget."
      ]
    },
    {
      "cell_type": "code",
      "execution_count": 1,
      "metadata": {
        "dotnet_interactive": {
          "language": "csharp"
        }
      },
      "source": [
        "#r \"nuget:DwC-A_dotnet,0.5.1\"\n",
        "#r \"nuget:DwC-A_dotnet.Interactive,0.1.6-Pre\""
      ],
      "outputs": [
        {
          "output_type": "execute_result",
          "data": {
            "text/plain": "Installed package DwC-A_dotnet version 0.5.1"
          },
          "execution_count": 1,
          "metadata": {}
        },
        {
          "output_type": "execute_result",
          "data": {
            "text/plain": "Installed package DwC-A_dotnet.Interactive version 0.1.6-pre"
          },
          "execution_count": 1,
          "metadata": {}
        },
        {
          "output_type": "execute_result",
          "data": {
            "text/markdown": "Loading extensions from `DwC-A_dotnet.Interactive.dll`"
          },
          "execution_count": 1,
          "metadata": {}
        }
      ]
    },
    {
      "cell_type": "markdown",
      "metadata": {},
      "source": [
        "## Open The Archive\n",
        "\n",
        "We open the archive using an `ArchiveReader` object as described in the Introduction notebook.  In this case we are using a dataset derived from a gbif query of butterflies of the genus *Papilionidae*."
      ]
    },
    {
      "cell_type": "code",
      "execution_count": 1,
      "metadata": {
        "dotnet_interactive": {
          "language": "csharp"
        }
      },
      "source": [
        "using DwC_A;\n",
        "using System.IO.Compression;\n",
        "using System.IO;\n",
        "\n",
        "var outputPath = \"./data/Papilionidae\";\n",
        "if(Directory.Exists(outputPath))\n",
        "    Directory.Delete(outputPath, true);\n",
        "ZipFile.ExtractToDirectory(\"./data/Papilionidae.zip\", outputPath);\n",
        "var papilionidae = new ArchiveReader(\"./data/Papilionidae\");\n",
        "papilionidae.MetaData"
      ],
      "outputs": [
        {
          "output_type": "execute_result",
          "data": {
            "text/html": "<table><thead><tr><td>File Type</td><td>File Name</td><td>Row Type</td></tr></thead><tbody><tr><td><b>CoreFile</b></td><td>occurrence.txt</td><td>http://rs.tdwg.org/dwc/terms/Occurrence</td></tr><tr><td><b>Extension:</b></td><td>multimedia.txt</td><td>http://rs.gbif.org/terms/1.0/Multimedia</td></tr><tr><td><b>Extension:</b></td><td>verbatim.txt</td><td>http://rs.tdwg.org/dwc/terms/Occurrence</td></tr><tr><td><b>Metadata:</b></td><td>metadata.xml</td><td></td></tr></tbody></table>"
          },
          "execution_count": 1,
          "metadata": {}
        }
      ]
    },
    {
      "cell_type": "code",
      "execution_count": 1,
      "metadata": {
        "dotnet_interactive": {
          "language": "csharp"
        }
      },
      "source": [
        "var multimedia = papilionidae.Extensions.GetFileReaderByFileName(\"multimedia.txt\");\n",
        "multimedia"
      ],
      "outputs": [
        {
          "output_type": "execute_result",
          "data": {
            "text/html": "<b>FileName</b>: multimedia.txt<br/><b>RowType</b>: http://rs.gbif.org/terms/1.0/Multimedia<table><thead><tr><td>Index</td><td>Name</td><td>Term</td><td>Vocabulary</td><td>Default</td><td>Delimiter</td></tr></thead><tbody><tr><td><div class=\"dni-plaintext\">0</div></td><td>gbifID</td><td><a href=\"http://rs.gbif.org/terms/1.0/gbifID\">http://rs.gbif.org/terms/1.0/gbifID</a></td><td><div class=\"dni-plaintext\">&lt;null&gt;</div></td><td><div class=\"dni-plaintext\">&lt;null&gt;</div></td><td><div class=\"dni-plaintext\">&lt;null&gt;</div></td></tr><tr><td><div class=\"dni-plaintext\">1</div></td><td>type</td><td><a href=\"http://purl.org/dc/terms/type\">http://purl.org/dc/terms/type</a></td><td><div class=\"dni-plaintext\">&lt;null&gt;</div></td><td><div class=\"dni-plaintext\">&lt;null&gt;</div></td><td><div class=\"dni-plaintext\">&lt;null&gt;</div></td></tr><tr><td><div class=\"dni-plaintext\">2</div></td><td>format</td><td><a href=\"http://purl.org/dc/terms/format\">http://purl.org/dc/terms/format</a></td><td><div class=\"dni-plaintext\">&lt;null&gt;</div></td><td><div class=\"dni-plaintext\">&lt;null&gt;</div></td><td><div class=\"dni-plaintext\">&lt;null&gt;</div></td></tr><tr><td><div class=\"dni-plaintext\">3</div></td><td>identifier</td><td><a href=\"http://purl.org/dc/terms/identifier\">http://purl.org/dc/terms/identifier</a></td><td><div class=\"dni-plaintext\">&lt;null&gt;</div></td><td><div class=\"dni-plaintext\">&lt;null&gt;</div></td><td><div class=\"dni-plaintext\">&lt;null&gt;</div></td></tr><tr><td><div class=\"dni-plaintext\">4</div></td><td>references</td><td><a href=\"http://purl.org/dc/terms/references\">http://purl.org/dc/terms/references</a></td><td><div class=\"dni-plaintext\">&lt;null&gt;</div></td><td><div class=\"dni-plaintext\">&lt;null&gt;</div></td><td><div class=\"dni-plaintext\">&lt;null&gt;</div></td></tr><tr><td><div class=\"dni-plaintext\">5</div></td><td>title</td><td><a href=\"http://purl.org/dc/terms/title\">http://purl.org/dc/terms/title</a></td><td><div class=\"dni-plaintext\">&lt;null&gt;</div></td><td><div class=\"dni-plaintext\">&lt;null&gt;</div></td><td><div class=\"dni-plaintext\">&lt;null&gt;</div></td></tr><tr><td><div class=\"dni-plaintext\">6</div></td><td>description</td><td><a href=\"http://purl.org/dc/terms/description\">http://purl.org/dc/terms/description</a></td><td><div class=\"dni-plaintext\">&lt;null&gt;</div></td><td><div class=\"dni-plaintext\">&lt;null&gt;</div></td><td><div class=\"dni-plaintext\">&lt;null&gt;</div></td></tr><tr><td><div class=\"dni-plaintext\">7</div></td><td>source</td><td><a href=\"http://purl.org/dc/terms/source\">http://purl.org/dc/terms/source</a></td><td><div class=\"dni-plaintext\">&lt;null&gt;</div></td><td><div class=\"dni-plaintext\">&lt;null&gt;</div></td><td><div class=\"dni-plaintext\">&lt;null&gt;</div></td></tr><tr><td><div class=\"dni-plaintext\">8</div></td><td>audience</td><td><a href=\"http://purl.org/dc/terms/audience\">http://purl.org/dc/terms/audience</a></td><td><div class=\"dni-plaintext\">&lt;null&gt;</div></td><td><div class=\"dni-plaintext\">&lt;null&gt;</div></td><td><div class=\"dni-plaintext\">&lt;null&gt;</div></td></tr><tr><td><div class=\"dni-plaintext\">9</div></td><td>created</td><td><a href=\"http://purl.org/dc/terms/created\">http://purl.org/dc/terms/created</a></td><td><div class=\"dni-plaintext\">&lt;null&gt;</div></td><td><div class=\"dni-plaintext\">&lt;null&gt;</div></td><td><div class=\"dni-plaintext\">&lt;null&gt;</div></td></tr><tr><td><div class=\"dni-plaintext\">10</div></td><td>creator</td><td><a href=\"http://purl.org/dc/terms/creator\">http://purl.org/dc/terms/creator</a></td><td><div class=\"dni-plaintext\">&lt;null&gt;</div></td><td><div class=\"dni-plaintext\">&lt;null&gt;</div></td><td><div class=\"dni-plaintext\">&lt;null&gt;</div></td></tr><tr><td><div class=\"dni-plaintext\">11</div></td><td>contributor</td><td><a href=\"http://purl.org/dc/terms/contributor\">http://purl.org/dc/terms/contributor</a></td><td><div class=\"dni-plaintext\">&lt;null&gt;</div></td><td><div class=\"dni-plaintext\">&lt;null&gt;</div></td><td><div class=\"dni-plaintext\">&lt;null&gt;</div></td></tr><tr><td><div class=\"dni-plaintext\">12</div></td><td>publisher</td><td><a href=\"http://purl.org/dc/terms/publisher\">http://purl.org/dc/terms/publisher</a></td><td><div class=\"dni-plaintext\">&lt;null&gt;</div></td><td><div class=\"dni-plaintext\">&lt;null&gt;</div></td><td><div class=\"dni-plaintext\">&lt;null&gt;</div></td></tr><tr><td><div class=\"dni-plaintext\">13</div></td><td>license</td><td><a href=\"http://purl.org/dc/terms/license\">http://purl.org/dc/terms/license</a></td><td><div class=\"dni-plaintext\">&lt;null&gt;</div></td><td><div class=\"dni-plaintext\">&lt;null&gt;</div></td><td><div class=\"dni-plaintext\">&lt;null&gt;</div></td></tr><tr><td><div class=\"dni-plaintext\">14</div></td><td>rightsHolder</td><td><a href=\"http://purl.org/dc/terms/rightsHolder\">http://purl.org/dc/terms/rightsHolder</a></td><td><div class=\"dni-plaintext\">&lt;null&gt;</div></td><td><div class=\"dni-plaintext\">&lt;null&gt;</div></td><td><div class=\"dni-plaintext\">&lt;null&gt;</div></td></tr></tbody></table>"
          },
          "execution_count": 1,
          "metadata": {}
        }
      ]
    },
    {
      "cell_type": "code",
      "execution_count": 1,
      "metadata": {
        "dotnet_interactive": {
          "language": "csharp"
        }
      },
      "source": [
        "using DwC_A.Extensions.MetaData;\n",
        "\n",
        "ExtendedTerms.RegisterTerms(papilionidae);\n",
        "var namespaceDictionary = ExtendedTerms.Extended as IDictionary<string, object>;\n",
        "foreach(var ns in ExtendedTerms.Namespaces)\n",
        "{\n",
        "    Console.WriteLine($\"Namespace: {ns.Key} => {ns.Value}\");\n",
        "    var termsDictionary = namespaceDictionary[ns.Value] as IDictionary<string, object>;\n",
        "    foreach(var term in termsDictionary)\n",
        "    {\n",
        "        var reference = $\"ExtendedTerms.Extended.{ns.Value}.{term.Key}\";\n",
        "        Console.WriteLine($\"\\tName: {term.Key}\\tTerm: {term.Value.ToString()}\\t{reference}\");\n",
        "    }\n",
        "\n",
        "}"
      ],
      "outputs": [
        {
          "output_type": "error",
          "ename": "Error",
          "evalue": "[object Object]",
          "traceback": []
        }
      ]
    },
    {
      "cell_type": "code",
      "execution_count": 1,
      "metadata": {
        "dotnet_interactive": {
          "language": "csharp"
        }
      },
      "source": [
        "\n",
        "using DwC_A.Terms;\n",
        "using Microsoft.DotNet.Interactive.Formatting;\n",
        "\n",
        "from o in occurrence.DataRows\n",
        "join m in multimedia.DataRows on o[0] equals m[0]  //Use index = 0 to join\n",
        "select new {\n",
        "\tspecies = o[Terms.scientificName],\n",
        "\timg = PocketViewTags.img[src: m[ExtendedTerms.Extended.dci.identifier], height: 200, alt: o[Terms.scientificName]]\n",
        "}"
      ],
      "outputs": [
        {
          "output_type": "error",
          "ename": "Error",
          "evalue": "[object Object]",
          "traceback": []
        }
      ]
    }
  ],
  "metadata": {
    "kernelspec": {
      "display_name": ".NET (C#)",
      "language": "C#",
      "name": ".net-csharp"
    },
    "language_info": {
      "file_extension": ".cs",
      "mimetype": "text/x-csharp",
      "name": "C#",
      "pygments_lexer": "csharp",
      "version": "8.0"
    }
  },
  "nbformat": 4,
  "nbformat_minor": 4
}