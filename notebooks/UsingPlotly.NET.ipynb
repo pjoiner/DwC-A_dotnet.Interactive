{
 "cells": [
  {
   "cell_type": "markdown",
   "metadata": {},
   "source": [
    "# Using DwC-A_dotnet With Plotly.NET\r\n",
    "\r\n",
    "This notebook shows a simple example of using Darwin Core Archive data with the [Plotly.NET](https://plotly.github.io/Plotly.NET/) charts.  Using LinQ we query all the occurrence data for a specific sampling event and display a column graph of totals for each genus found."
   ]
  },
  {
   "cell_type": "code",
   "execution_count": null,
   "metadata": {},
   "outputs": [],
   "source": [
    "#r \"nuget: FSharp.Compiler.Service,*-*\"\n",
    "#r \"nuget: System.CommandLine,*-*\"\n",
    "#r \"nuget: Plotly.NET,2.0.0-beta6\"\n",
    "#r \"nuget: Plotly.NET.Interactive,2.0.0-beta6\""
   ]
  },
  {
   "cell_type": "code",
   "execution_count": null,
   "metadata": {},
   "outputs": [],
   "source": [
    "#r \"nuget:DwC-A_dotnet,0.5.1\"\r\n",
    "#r \"nuget:DwC-A_dotnet.Interactive,0.1.1-Pre\""
   ]
  },
  {
   "cell_type": "code",
   "execution_count": 4,
   "metadata": {},
   "outputs": [],
   "source": [
    "using DwC_A;\n",
    "\n",
    "var archive = new ArchiveReader(@\"./data/dwca-rooftop-v1.4\");"
   ]
  },
  {
   "cell_type": "markdown",
   "metadata": {},
   "source": [
    "Change the number in the `.Skip(5)` line of the first query to retrieve a different eventID.  This ID will be displayed in the column chart title."
   ]
  },
  {
   "cell_type": "code",
   "execution_count": null,
   "metadata": {},
   "outputs": [],
   "source": [
    "using Plotly.NET;\r\n",
    "using DwC_A.Terms;\r\n",
    "\r\n",
    "var eventID = archive.CoreFile.DataRows\r\n",
    "    .Skip(5)  //Change this number and run the cell again and to see the chart for a new eventID\r\n",
    "    .Take(1)\r\n",
    "    .First()[Terms.eventID];\r\n",
    "var occurrences = archive.Extensions.GetFileReaderByFileName(\"occurrence.txt\");\r\n",
    "\r\n",
    "var dataSeries = occurrences.DataRows\r\n",
    "    .Where(n => n[Terms.eventID] == eventID)\r\n",
    "    .GroupBy(n => n[Terms.genus])\r\n",
    "    .Select(g => \r\n",
    "        Tuple.Create(g.First()[Terms.genus],\r\n",
    "            g.Sum(c => int.Parse(c[Terms.individualCount]))));\r\n",
    "\r\n",
    "var chart = Plotly.NET.Chart.Column<string, int, int>(dataSeries);\r\n",
    "var layout = new Plotly.NET.Layout();\r\n",
    "chart.WithSize(1100, 500)\r\n",
    "    .WithTitle(eventID);\r\n",
    "chart"
   ]
  }
 ],
 "metadata": {
  "kernelspec": {
   "display_name": ".NET (C#)",
   "language": "C#",
   "name": ".net-csharp"
  },
  "language_info": {
   "file_extension": ".cs",
   "mimetype": "text/x-csharp",
   "name": "csharp",
   "pygments_lexer": "csharp",
   "version": "8.0"
  }
 },
 "nbformat": 4,
 "nbformat_minor": 5
}