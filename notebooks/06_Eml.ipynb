{
  "cells": [
    {
      "cell_type": "markdown",
      "metadata": {},
      "source": [
        "# Ecological Metadata Language (EML)\n",
        "\n",
        "Some archives include additional metadata stored in the form of an XML file that uses [Ecological Metadata Language (EML)](https://eml.ecoinformatics.org/).  This path to this file can be retrieved from the `ArchiveReader.MetaData`.  This notebook describes how information can be retrieved from the dataset metadata and presented."
      ]
    },
    {
      "cell_type": "code",
      "execution_count": 1,
      "metadata": {
        "dotnet_interactive": {
          "language": "csharp"
        },
        "vscode": {
          "languageId": "dotnet-interactive.csharp"
        }
      },
      "outputs": [
        {
          "data": {
            "text/html": [
              "<div><div></div><div></div><div><strong>Installed Packages</strong><ul><li><span>DwC-A_dotnet, 0.7.0</span></li><li><span>DwC-A_dotnet.Interactive, 0.1.10-pre</span></li></ul></div></div>"
            ]
          },
          "metadata": {},
          "output_type": "display_data"
        },
        {
          "data": {
            "text/markdown": [
              "Loading extensions from `DwC-A_dotnet.Interactive.dll`"
            ]
          },
          "metadata": {},
          "output_type": "display_data"
        }
      ],
      "source": [
        "#r \"nuget:DwC-A_dotnet,0.7.0\"\n",
        "#r \"nuget:DwC-A_dotnet.Interactive,0.1.10-Pre\""
      ]
    },
    {
      "cell_type": "code",
      "execution_count": 2,
      "metadata": {
        "dotnet_interactive": {
          "language": "csharp"
        },
        "vscode": {
          "languageId": "dotnet-interactive.csharp"
        }
      },
      "outputs": [
        {
          "data": {
            "text/plain": [
              "C:\\Users\\pj865\\AppData\\Local\\Temp\\dwca\\d57788d7-19f5-43a7-857e-5145d5d0c465\\eml.xml"
            ]
          },
          "metadata": {},
          "output_type": "display_data"
        }
      ],
      "source": [
        "using DwC_A;\n",
        "using System.IO;\n",
        "\n",
        "var archive = new ArchiveReader(\"./data/dwca-rooftop-v1.4.zip\");\n",
        "var emlPath = Path.Combine(archive.OutputPath, archive.MetaData.Metadata);\n",
        "emlPath"
      ]
    },
    {
      "cell_type": "markdown",
      "metadata": {},
      "source": [
        "## Using XPath Queries\n",
        "\n",
        "Using an XPathNavigator object we can query into any part of the document and retrieve single elements or sections.\n",
        "\n",
        "For some tips on finding the information you need see the document [Best Practices for Dataset Metadata in Ecological Metadata Language (EML)](https://environmentaldatainitiative.org/five-phases-of-data-publishing/phase-3/metadata-best-practices/) available for download from [https://environmentaldatainitiative.org](https://environmentaldatainitiative.org)."
      ]
    },
    {
      "cell_type": "code",
      "execution_count": 3,
      "metadata": {
        "dotnet_interactive": {
          "language": "csharp"
        },
        "vscode": {
          "languageId": "dotnet-interactive.csharp"
        }
      },
      "outputs": [
        {
          "data": {
            "text/plain": [
              "Insects from light trap (1992–2009), rooftop Zoological Museum, Copenhagen"
            ]
          },
          "metadata": {},
          "output_type": "display_data"
        }
      ],
      "source": [
        "using System.Xml;\n",
        "using System.Xml.XPath;\n",
        "\n",
        "var docNav = new XPathDocument(emlPath);\n",
        "var nav = docNav.CreateNavigator();\n",
        "XmlNamespaceManager nsmgr = new XmlNamespaceManager(nav.NameTable);\n",
        "nsmgr.AddNamespace(\"eml\", \"eml://ecoinformatics.org/eml-2.1.1\");\n",
        "var root = nav.SelectSingleNode(\"eml:eml\", nsmgr);\n",
        "\n",
        "var title = root.SelectSingleNode(\"dataset/title\", nsmgr).ToString();\n",
        "title"
      ]
    },
    {
      "cell_type": "markdown",
      "metadata": {},
      "source": [
        "## Formatter Shortcut\n",
        "\n",
        "The following Formatters can be used as a shortcut to display the results of simple queries.  Try some of the following in the cell following the next.\n",
        "\n",
        "* dataset/title\n",
        "* dataset/abstract/para\n",
        "* dataset/keywordSet/keyword\n",
        "* additionalMetadata/metadata/gbif/citation"
      ]
    },
    {
      "cell_type": "code",
      "execution_count": 4,
      "metadata": {
        "dotnet_interactive": {
          "language": "csharp"
        },
        "vscode": {
          "languageId": "dotnet-interactive.csharp"
        }
      },
      "outputs": [],
      "source": [
        "using Microsoft.DotNet.Interactive.Formatting;\n",
        "using System.Xml.XPath;\n",
        "\n",
        "using static  Microsoft.DotNet.Interactive.Formatting.PocketViewTags;\n",
        "\n",
        "Formatter.Register<XPathNavigator>((nav, writer) => {\n",
        "    var output = p(nav.ToString());\n",
        "    writer.Write(output);\n",
        "}, \"text/html\");\n",
        "\n",
        "Formatter.Register<XPathNodeIterator>((iter, writer) => {\n",
        "    var outputList = new List<dynamic>();\n",
        "    foreach(var node in iter)\n",
        "    {\n",
        "        outputList.Add(p(node.ToString()));\n",
        "    }\n",
        "    writer.Write(div(outputList));\n",
        "}, \"text/html\");"
      ]
    },
    {
      "cell_type": "code",
      "execution_count": 5,
      "metadata": {
        "dotnet_interactive": {
          "language": "csharp"
        },
        "vscode": {
          "languageId": "dotnet-interactive.csharp"
        }
      },
      "outputs": [
        {
          "data": {
            "text/html": [
              "<div><p>Insects from light trap (1992–2009), rooftop Zoological Museum, Copenhagen</p></div>"
            ]
          },
          "metadata": {},
          "output_type": "display_data"
        }
      ],
      "source": [
        "root.Select(\"dataset/title\", nsmgr)"
      ]
    },
    {
      "cell_type": "markdown",
      "metadata": {},
      "source": [
        "## Using XSL Stylesheets\n",
        "\n",
        "We can also perform XSL Transforms on the data to produce an HTML document using the XslCompiledTransform class as follows.  Here we are using a the stylesheet eml.xslt to retrieve the document title, abstract and citation information."
      ]
    },
    {
      "cell_type": "code",
      "execution_count": 6,
      "metadata": {
        "dotnet_interactive": {
          "language": "csharp"
        },
        "vscode": {
          "languageId": "dotnet-interactive.csharp"
        }
      },
      "outputs": [
        {
          "data": {
            "text/html": [
              "<html xmlns:eml=\"eml://ecoinformatics.org/eml-2.1.1\"><head><link rel=\"stylesheet\" href=\"styles.css\" type=\"text/css\" /><title>Meta Data</title></head><body><h2>Insects from light trap (1992–2009), rooftop Zoological Museum, Copenhagen</h2><h4>Abstract</h4><p>Collecting of Lepidoptera and Coleoptera was carried out with an automatically working modified Robinson light trap, which was installed 17.5 m above ground at the roof of the Zoological Museum in Copenhagen, Denmark. The trap worked around 4,500 nights from April to November during the years 1992 to 2009, and was emptied on an approximately weekly basis.</p><p>An analysis of this dataset was recently published in the Journal of Animal Ecology: https://dx.doi.org/10.1111/1365-2656.12452 The original data was deposited in Dryad and has now been republished in the standard Darwin Core Archive format using the IPT. Also note that the Lepidoptera data underwent a number of minor name corrections.</p><p>Since new collaborations are extremely valuable to make the most of the data, researchers are encouraged to contact the dataset creator to collaborate on joint analyses and meta-analyses.</p><h4>Citation</h4>Karlsholt O, Pedersen J, Hansen (deceased) M (2015): Insects from light trap (1992–2009), rooftop Zoological Museum, Copenhagen. v1.4. Natural History Museum of Denmark. Dataset/Samplingevent. http://doi.org/10.15468/xabmiz</body></html>"
            ]
          },
          "metadata": {},
          "output_type": "display_data"
        }
      ],
      "source": [
        "using System.Xml.Xsl;\n",
        "using System.Xml;\n",
        "using Microsoft.AspNetCore.Html;\n",
        "\n",
        "using static Microsoft.DotNet.Interactive.Formatting.PocketViewTags;\n",
        "\n",
        "using(var stringWriter = new StringWriter())\n",
        "using(var writer = new XmlTextWriter(stringWriter))\n",
        "{\n",
        "    XslCompiledTransform xslt = new XslCompiledTransform();\n",
        "    xslt.Load(\"./data/eml.xslt\");\n",
        "    xslt.Transform(emlPath, writer);\n",
        "    display(new HtmlString(stringWriter.ToString()));\n",
        "}"
      ]
    }
  ],
  "metadata": {
    "kernelspec": {
      "display_name": ".NET (C#)",
      "language": "C#",
      "name": ".net-csharp"
    },
    "language_info": {
      "file_extension": ".cs",
      "mimetype": "text/x-csharp",
      "name": "C#",
      "pygments_lexer": "csharp",
      "version": "8.0"
    }
  },
  "nbformat": 4,
  "nbformat_minor": 4
}
