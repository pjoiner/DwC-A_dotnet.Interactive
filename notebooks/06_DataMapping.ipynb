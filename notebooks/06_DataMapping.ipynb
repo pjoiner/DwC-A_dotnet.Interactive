{
  "cells": [
    {
      "cell_type": "markdown",
      "metadata": {},
      "source": [
        "# Data Conversion and Mapping\n",
        "\n",
        "File data fields can be converted to strongly typed objects using one of the Convert extension methods of the IRow interface.  Documentation can be found [here](https://github.com/pjoiner/DwC-A_dotnet/wiki/Type-Conversion).\n",
        "\n",
        "We'll utilize the [DwC-A_dotnet.Mapping](https://github.com/pjoiner/DwC-A_dotnet.Mapping) extension library to map IRow fields to a model class."
      ]
    },
    {
      "cell_type": "code",
      "execution_count": null,
      "metadata": {
        "dotnet_interactive": {
          "language": "csharp"
        }
      },
      "outputs": [
        {
          "data": {
            "text/html": [
              "<div><div></div><div></div><div><strong>Installed Packages</strong><ul><li><span>DwC-A_dotnet, 0.6.0</span></li><li><span>DwC-A_dotnet.Interactive, 0.1.8-pre</span></li><li><span>DwC-A_dotnet.Mapping, 0.6.2</span></li></ul></div></div>"
            ]
          },
          "metadata": {},
          "output_type": "display_data"
        },
        {
          "data": {
            "text/markdown": [
              "Loading extensions from `DwC-A_dotnet.Interactive.dll`"
            ]
          },
          "metadata": {},
          "output_type": "display_data"
        }
      ],
      "source": [
        "#r \"nuget:DwC-A_dotnet,0.6.0\"\n",
        "#r \"nuget:DwC-A_dotnet.Mapping,0.6.2\"\n",
        "#r \"nuget:DwC-A_dotnet.Interactive,0.1.8-Pre\""
      ]
    },
    {
      "cell_type": "markdown",
      "metadata": {},
      "source": [
        "## Model Class\n",
        "\n",
        "First create the class that you wish to map values to.  In this instance we are going to create an Occurrence class to display the scientific name and coordinates of the observation."
      ]
    },
    {
      "cell_type": "markdown",
      "metadata": {},
      "source": [
        "## Class Definition\n",
        "\n",
        "The next cell loads a class definition to map the data into.  This code can be created by hand or generated using the dotnet tool [dwca-codegen](https://www.nuget.org/packages/dwca-codegen/) which is available on NuGet.  For more information on using [dwca-codegen](https://github.com/pjoiner/DwC-A_dotnet.Mapping/tree/master/src/dwca-codegen) see the [README.md](https://github.com/pjoiner/DwC-A_dotnet.Mapping/blob/master/src/dwca-codegen/README.md) file for that package / repo.\n",
        "\n",
        "**Note:** Make sure you set the namespace to \"\" when generating class files from an archive for use in dotnet interactive since namespaces aren't allowed."
      ]
    },
    {
      "cell_type": "code",
      "execution_count": null,
      "metadata": {
        "dotnet_interactive": {
          "language": "csharp"
        }
      },
      "outputs": [],
      "source": [
        "#load \"./Code/Occurrence.cs\""
      ]
    },
    {
      "cell_type": "markdown",
      "metadata": {},
      "source": [
        "## Mapper\n",
        "\n",
        "Next we create a mapper and define a method for mapping the fields of the IRow to the class."
      ]
    },
    {
      "cell_type": "code",
      "execution_count": null,
      "metadata": {
        "dotnet_interactive": {
          "language": "csharp"
        }
      },
      "outputs": [],
      "source": [
        "using DwC_A.Mapping;\n",
        "using DwC_A.Terms;\n",
        "using DwC_A.Extensions;\n",
        "\n",
        "var mapper = MapperFactory.CreateMapper<Occurrence>((o, row) => {\n",
        "    o.GbifID = row[\"http://rs.gbif.org/terms/1.0/gbifID\"];\n",
        "    o.Identifier = row[\"http://purl.org/dc/terms/identifier\"];\n",
        "    o.ScientificName = row[Terms.scientificName];\n",
        "    o.DecimalLongitude = row.Convert<double>(Terms.decimalLongitude);\n",
        "    o.DecimalLatitude = row.Convert<double>(Terms.decimalLatitude);\n",
        "});"
      ]
    },
    {
      "cell_type": "markdown",
      "metadata": {},
      "source": [
        "## Map\n",
        "\n",
        "Finally, we map the data using the Map methods of either the IRow or IFileReader interfaces."
      ]
    },
    {
      "cell_type": "code",
      "execution_count": null,
      "metadata": {
        "dotnet_interactive": {
          "language": "csharp"
        }
      },
      "outputs": [
        {
          "data": {
            "text/html": [
              "<table><thead><tr><th><i>index</i></th><th>GbifID</th><th>Identifier</th><th>ScientificName</th><th>DecimalLatitude</th><th>DecimalLongitude</th></tr></thead><tbody><tr><td>0</td><td>3044911996</td><td>70017752</td><td>Battus philenor (Linnaues, 1771)</td><td><div class=\"dni-plaintext\">32.996571</div></td><td><div class=\"dni-plaintext\">-97.148685</div></td></tr><tr><td>1</td><td>3044896703</td><td>60757200</td><td>Eurytides marcellus (Cramer, 1777)</td><td><div class=\"dni-plaintext\">32.754545</div></td><td><div class=\"dni-plaintext\">-94.483826</div></td></tr><tr><td>2</td><td>3044892607</td><td>69800040</td><td>Battus philenor (Linnaues, 1771)</td><td><div class=\"dni-plaintext\">29.824338</div></td><td><div class=\"dni-plaintext\">-104.307482</div></td></tr><tr><td>3</td><td>3044876974</td><td>70046714</td><td>Battus philenor (Linnaues, 1771)</td><td><div class=\"dni-plaintext\">31.590366</div></td><td><div class=\"dni-plaintext\">-98.927223</div></td></tr><tr><td>4</td><td>3044875694</td><td>69901665</td><td>Papilio polibetes Stoll, 1781</td><td><div class=\"dni-plaintext\">33.737175</div></td><td><div class=\"dni-plaintext\">-96.576508</div></td></tr><tr><td>5</td><td>3044875210</td><td>70124762</td><td>Papilio glaucus Linnaeus, 1758</td><td><div class=\"dni-plaintext\">30.693989</div></td><td><div class=\"dni-plaintext\">-97.822322</div></td></tr><tr><td>6</td><td>3044864241</td><td>70128451</td><td>Papilio palamedes Drury, 1773</td><td><div class=\"dni-plaintext\">28.244524</div></td><td><div class=\"dni-plaintext\">-96.856559</div></td></tr><tr><td>7</td><td>3044857233</td><td>70155003</td><td>Battus philenor (Linnaues, 1771)</td><td><div class=\"dni-plaintext\">29.386342</div></td><td><div class=\"dni-plaintext\">-95.011422</div></td></tr><tr><td>8</td><td>3044837653</td><td>57581630</td><td>Papilio cresphontes Cramer, 1777</td><td><div class=\"dni-plaintext\">30.924697</div></td><td><div class=\"dni-plaintext\">-94.003875</div></td></tr><tr><td>9</td><td>3044833915</td><td>69458126</td><td>Papilio multicaudata Kirby, 1884</td><td><div class=\"dni-plaintext\">29.552946</div></td><td><div class=\"dni-plaintext\">-98.233367</div></td></tr><tr><td>10</td><td>3044807181</td><td>69584861</td><td>Battus polydamas (Linnaeus, 1758)</td><td><div class=\"dni-plaintext\">26.351099</div></td><td><div class=\"dni-plaintext\">-98.344747</div></td></tr><tr><td>11</td><td>3044806945</td><td>69458122</td><td>Battus philenor (Linnaues, 1771)</td><td><div class=\"dni-plaintext\">29.55491</div></td><td><div class=\"dni-plaintext\">-98.237652</div></td></tr><tr><td>12</td><td>3044781155</td><td>69589483</td><td>Papilio multicaudata Kirby, 1884</td><td><div class=\"dni-plaintext\">29.656456</div></td><td><div class=\"dni-plaintext\">-98.616965</div></td></tr><tr><td>13</td><td>3044777286</td><td>69646959</td><td>Papilio anchisiades Esper, 1788</td><td><div class=\"dni-plaintext\">26.080642</div></td><td><div class=\"dni-plaintext\">-98.136166</div></td></tr><tr><td>14</td><td>3044776058</td><td>69513475</td><td>Battus philenor (Linnaues, 1771)</td><td><div class=\"dni-plaintext\">30.183931</div></td><td><div class=\"dni-plaintext\">-97.726007</div></td></tr><tr><td>15</td><td>3044766899</td><td>69458109</td><td>Papilio polibetes Stoll, 1781</td><td><div class=\"dni-plaintext\">29.553686</div></td><td><div class=\"dni-plaintext\">-98.236276</div></td></tr><tr><td>16</td><td>3044748925</td><td>69458114</td><td>Papilio rumiko (Shiraiwa &amp; Grishin, 2014)</td><td><div class=\"dni-plaintext\">29.553312</div></td><td><div class=\"dni-plaintext\">-98.236501</div></td></tr><tr><td>17</td><td>3044740003</td><td>70011280</td><td>Papilio polibetes Stoll, 1781</td><td><div class=\"dni-plaintext\">30.269089</div></td><td><div class=\"dni-plaintext\">-97.627769</div></td></tr><tr><td>18</td><td>3044735819</td><td>69093639</td><td>Papilio ornythion Boisduval, 1836</td><td><div class=\"dni-plaintext\">26.584771</div></td><td><div class=\"dni-plaintext\">-99.149252</div></td></tr><tr><td>19</td><td>3044698740</td><td>64833909</td><td>Papilio rumiko (Shiraiwa &amp; Grishin, 2014)</td><td><div class=\"dni-plaintext\">29.45797</div></td><td><div class=\"dni-plaintext\">-98.458514</div></td></tr><tr><td colspan=\"6\">(80 more)</td></tr></tbody></table>"
            ]
          },
          "metadata": {},
          "output_type": "display_data"
        }
      ],
      "source": [
        "using DwC_A;\n",
        "\n",
        "var outputPath = \"./data/Papilionidae.zip\";\n",
        "var archive = new ArchiveReader(outputPath);\n",
        "\n",
        "archive.CoreFile\n",
        "    .Map<Occurrence>(mapper)\n",
        "    .Take(100)\n",
        "    .Select(n => new{n.GbifID, n.Identifier, n.ScientificName, n.DecimalLatitude, n.DecimalLongitude})"
      ]
    }
  ],
  "metadata": {
    "kernelspec": {
      "display_name": ".NET (C#)",
      "language": "C#",
      "name": ".net-csharp"
    },
    "language_info": {
      "file_extension": ".cs",
      "mimetype": "text/x-csharp",
      "name": "C#",
      "pygments_lexer": "csharp",
      "version": "8.0"
    }
  },
  "nbformat": 4,
  "nbformat_minor": 4
}
