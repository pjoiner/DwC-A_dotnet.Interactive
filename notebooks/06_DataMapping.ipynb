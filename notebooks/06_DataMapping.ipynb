{
  "cells": [
    {
      "cell_type": "markdown",
      "metadata": {},
      "source": [
        "# Mapping\n",
        "\n",
        "Using the [DwC-A_dotnet.Mapping](https://www.nuget.org/packages/DwC-A_dotnet.Mapping/) library we can map data from a [DwC-A_dotnet](https://www.nuget.org/packages/DwC-A_dotnet/) IRow to a strongly typed class.  There are two different approaches to mapping data\n",
        "\n",
        "1. Using the dwca-codegen magic command to generate a class and mapping method from archive metadata.  This requires the least code and is more interactive but can run into more issues.\n",
        "1. Manually create a class definition and mapping method.  This gives the most control over mapping but requires more effort. "
      ]
    },
    {
      "cell_type": "code",
      "execution_count": 1,
      "metadata": {
        "dotnet_interactive": {
          "language": "csharp"
        },
        "vscode": {
          "languageId": "dotnet-interactive.csharp"
        }
      },
      "outputs": [
        {
          "data": {
            "text/html": [
              "<div><div></div><div></div><div><strong>Installed Packages</strong><ul><li><span>DwC-A_dotnet.Interactive, 0.1.12-pre</span></li><li><span>DwC-A_dotnet.Mapping, 0.6.3</span></li><li><span>Microsoft.ML, 1.7.1</span></li></ul></div></div>"
            ]
          },
          "metadata": {},
          "output_type": "display_data"
        },
        {
          "data": {
            "text/markdown": [
              "Loading extensions from `DwC-A_dotnet.Interactive.dll`"
            ]
          },
          "metadata": {},
          "output_type": "display_data"
        }
      ],
      "source": [
        "#r \"nuget:DwC-A_dotnet.Interactive,0.1.12-Pre\"\n",
        "#r \"nuget:DwC-A_dotnet.Mapping,0.6.3\"\n",
        "#r \"nuget:Microsoft.ML\""
      ]
    },
    {
      "cell_type": "markdown",
      "metadata": {},
      "source": [
        "## Using The dwca-codegen Magic Command\n",
        "\n",
        "First, we will map using the dwca-codegen magic command.\n",
        "\n",
        "### Create Configuration\n",
        "\n",
        "This step is optional but gives more control over how classes are generated and mapped.  If this step is left out all properties will be mapped as string type.\n",
        "\n",
        "Use the GeneratorConfigurationBuilder to create a configuration to influence how the dwca-codegen command generates the class to be mapped for each file in the archive.\n",
        "\n",
        "Use the AppProperty method to define the properties that will be added to the generated classes and how they will be mapped to specific terms.  Use the wildcard term __*__ to determine whether properties will be created for all other undefined terms and mapped.\n",
        "\n",
        "The WithMapMethod creates a static method on the type called MapRow that will be used to map an IRow row to an instance of the generated class."
      ]
    },
    {
      "cell_type": "code",
      "execution_count": 2,
      "metadata": {
        "dotnet_interactive": {
          "language": "csharp"
        },
        "vscode": {
          "languageId": "dotnet-interactive.csharp"
        }
      },
      "outputs": [
        {
          "data": {
            "text/html": [
              "<div><div><h3>Options</h3></div><div><table><thead><tr><th>Option</th><th>Value</th></tr></thead><tbody><tr><td>Namespace</td><td></td></tr><tr><td>MapMethod</td><td>True</td></tr><tr><td>Output</td><td></td></tr><tr><td>PascalCase</td><td>True</td></tr><tr><td>TermAttribute</td><td>none</td></tr><tr><td>Usings</td><td><ul>System</ul><ul>DwC_A</ul><ul>DwC_A.Extensions</ul></td></tr></tbody></table></div><div><h3>Properties</h3></div><div><table><thead><tr><th>Name</th><th>Type</th><th>Include</th><th>Term</th></tr></thead><tbody><tr><td><div class=\"dni-plaintext\">&lt;null&gt;</div></td><td>string</td><td><div class=\"dni-plaintext\">True</div></td><td>*</td></tr><tr><td>Latitude</td><td>double</td><td><div class=\"dni-plaintext\">True</div></td><td>http://rs.tdwg.org/dwc/terms/decimalLatitude</td></tr><tr><td>Longitude</td><td>double</td><td><div class=\"dni-plaintext\">True</div></td><td>http://rs.tdwg.org/dwc/terms/decimalLongitude</td></tr><tr><td><div class=\"dni-plaintext\">&lt;null&gt;</div></td><td>DateTime</td><td><div class=\"dni-plaintext\">True</div></td><td>http://rs.tdwg.org/dwc/terms/dateIdentified</td></tr></tbody></table></div></div>"
            ]
          },
          "metadata": {},
          "output_type": "display_data"
        }
      ],
      "source": [
        "using DwC_A.Interactive.Mapping;\n",
        "using DwC_A.Terms;\n",
        "\n",
        "var config = new GeneratorConfigurationBuilder()\n",
        ".AddProperty(\"*\", \"string\", true)\n",
        ".AddProperty(Terms.decimalLatitude, \"double\", true, \"Latitude\")\n",
        ".AddProperty(Terms.decimalLongitude, \"double\", true, \"Longitude\")\n",
        ".AddProperty(Terms.dateIdentified, \"DateTime\")\n",
        ".WithMapMethod(true)\n",
        ".Build();\n",
        "\n",
        "config"
      ]
    },
    {
      "cell_type": "markdown",
      "metadata": {},
      "source": [
        "### dwca-codegen\n",
        "\n",
        "Use the dwca-codegen command to examine the archive and generate classes to map data into.  The --configName option can be used to specify the name of the variable that contains the configuration information we created earlier. "
      ]
    },
    {
      "cell_type": "code",
      "execution_count": 3,
      "metadata": {
        "dotnet_interactive": {
          "language": "csharp"
        },
        "vscode": {
          "languageId": "dotnet-interactive.csharp"
        }
      },
      "outputs": [
        {
          "name": "stdout",
          "output_type": "stream",
          "text": [
            "Description:\r\n",
            "  Generate strongly typed class files for Darwin Core Archive\r\n",
            "\r\n",
            "Usage:\r\n",
            "  #!dwca-codegen <archivePath> [options]\r\n",
            "\r\n",
            "Arguments:\r\n",
            "  <archivePath>  Path to archive folder or zip file\r\n",
            "\r\n",
            "Options:\r\n",
            "  -c, --configName <configName>  Name of configuration variable []\r\n",
            "  -?, -h, --help                 Show help and usage information\r\n",
            "\r\n",
            "\r\n",
            "\r\n"
          ]
        },
        {
          "data": {
            "text/html": [
              "<div class=\"dni-plaintext\">Opening archive ./data/Papilionidae.zip using configuration</div>"
            ]
          },
          "metadata": {},
          "output_type": "display_data"
        },
        {
          "data": {
            "text/html": [
              "<div><div><h3>Options</h3></div><div><table><thead><tr><th>Option</th><th>Value</th></tr></thead><tbody><tr><td>Namespace</td><td></td></tr><tr><td>MapMethod</td><td>True</td></tr><tr><td>Output</td><td></td></tr><tr><td>PascalCase</td><td>True</td></tr><tr><td>TermAttribute</td><td>none</td></tr><tr><td>Usings</td><td><ul>System</ul><ul>DwC_A</ul><ul>DwC_A.Extensions</ul></td></tr></tbody></table></div><div><h3>Properties</h3></div><div><table><thead><tr><th>Name</th><th>Type</th><th>Include</th><th>Term</th></tr></thead><tbody><tr><td><div class=\"dni-plaintext\">&lt;null&gt;</div></td><td>string</td><td><div class=\"dni-plaintext\">True</div></td><td>*</td></tr><tr><td>Latitude</td><td>double</td><td><div class=\"dni-plaintext\">True</div></td><td>http://rs.tdwg.org/dwc/terms/decimalLatitude</td></tr><tr><td>Longitude</td><td>double</td><td><div class=\"dni-plaintext\">True</div></td><td>http://rs.tdwg.org/dwc/terms/decimalLongitude</td></tr><tr><td><div class=\"dni-plaintext\">&lt;null&gt;</div></td><td>DateTime</td><td><div class=\"dni-plaintext\">True</div></td><td>http://rs.tdwg.org/dwc/terms/dateIdentified</td></tr></tbody></table></div></div>"
            ]
          },
          "metadata": {},
          "output_type": "display_data"
        },
        {
          "data": {
            "text/html": [
              "<div class=\"dni-plaintext\">Generating class Occurrence</div>"
            ]
          },
          "metadata": {},
          "output_type": "display_data"
        },
        {
          "data": {
            "text/html": [
              "<div class=\"dni-plaintext\">Generating class Multimedia</div>"
            ]
          },
          "metadata": {},
          "output_type": "display_data"
        },
        {
          "data": {
            "text/html": [
              "<div class=\"dni-plaintext\">Generating class Verbatim</div>"
            ]
          },
          "metadata": {},
          "output_type": "display_data"
        }
      ],
      "source": [
        "#!dwca-codegen -h\n",
        "#!dwca-codegen -c config ./data/Papilionidae.zip"
      ]
    },
    {
      "cell_type": "markdown",
      "metadata": {},
      "source": [
        "## Create Mapper\n",
        "\n",
        "Now that we have class definitions and a mapping method we can define a mapper as follows."
      ]
    },
    {
      "cell_type": "code",
      "execution_count": 4,
      "metadata": {
        "dotnet_interactive": {
          "language": "csharp"
        },
        "vscode": {
          "languageId": "dotnet-interactive.csharp"
        }
      },
      "outputs": [],
      "source": [
        "using DwC_A.Mapping;\n",
        "\n",
        "var mapper = MapperFactory.CreateMapper<Occurrence>(Occurrence.MapRow);\n"
      ]
    },
    {
      "cell_type": "markdown",
      "metadata": {},
      "source": [
        "## Map Archive\n",
        "\n",
        "Finally, we can open the archive and query rows that we can map using the mapper.\n",
        "\n",
        "**Hint:** Use the Greedy RowStrategy for better performance when mapping the entire class.\n",
        "\n",
        "There are three different Map extensions for the IFileReader and IRow interfaces returned by the ArchiveReader."
      ]
    },
    {
      "cell_type": "code",
      "execution_count": 5,
      "metadata": {
        "dotnet_interactive": {
          "language": "csharp"
        },
        "vscode": {
          "languageId": "dotnet-interactive.csharp"
        }
      },
      "outputs": [
        {
          "data": {
            "text/html": [
              "<table><thead><tr><th><i>index</i></th><th>ScientificName</th><th>Latitude</th><th>Longitude</th><th>DateIdentified</th></tr></thead><tbody><tr><td>0</td><td>Battus philenor (Linnaues, 1771)</td><td><div class=\"dni-plaintext\">32.996571</div></td><td><div class=\"dni-plaintext\">-97.148685</div></td><td><span>2021-02-23 02:11:11Z</span></td></tr><tr><td>1</td><td>Eurytides marcellus (Cramer, 1777)</td><td><div class=\"dni-plaintext\">32.754545</div></td><td><div class=\"dni-plaintext\">-94.483826</div></td><td><span>2020-09-25 21:31:00Z</span></td></tr><tr><td>2</td><td>Battus philenor (Linnaues, 1771)</td><td><div class=\"dni-plaintext\">29.824338</div></td><td><div class=\"dni-plaintext\">-104.307482</div></td><td><span>2021-02-19 04:44:44Z</span></td></tr><tr><td>3</td><td>Battus philenor (Linnaues, 1771)</td><td><div class=\"dni-plaintext\">31.590366</div></td><td><div class=\"dni-plaintext\">-98.927223</div></td><td><span>2021-02-23 18:21:20Z</span></td></tr><tr><td>4</td><td>Papilio polibetes Stoll, 1781</td><td><div class=\"dni-plaintext\">33.737175</div></td><td><div class=\"dni-plaintext\">-96.576508</div></td><td><span>2021-02-21 03:35:16Z</span></td></tr><tr><td>5</td><td>Papilio glaucus Linnaeus, 1758</td><td><div class=\"dni-plaintext\">30.693989</div></td><td><div class=\"dni-plaintext\">-97.822322</div></td><td><span>2021-02-25 02:22:19Z</span></td></tr><tr><td>6</td><td>Papilio palamedes Drury, 1773</td><td><div class=\"dni-plaintext\">28.244524</div></td><td><div class=\"dni-plaintext\">-96.856559</div></td><td><span>2021-02-25 03:41:59Z</span></td></tr><tr><td>7</td><td>Battus philenor (Linnaues, 1771)</td><td><div class=\"dni-plaintext\">29.386342</div></td><td><div class=\"dni-plaintext\">-95.011422</div></td><td><span>2021-02-25 18:42:07Z</span></td></tr><tr><td>8</td><td>Papilio cresphontes Cramer, 1777</td><td><div class=\"dni-plaintext\">30.924697</div></td><td><div class=\"dni-plaintext\">-94.003875</div></td><td><span>2020-08-25 21:01:29Z</span></td></tr><tr><td>9</td><td>Papilio multicaudata Kirby, 1884</td><td><div class=\"dni-plaintext\">29.552946</div></td><td><div class=\"dni-plaintext\">-98.233367</div></td><td><span>2021-02-12 15:13:22Z</span></td></tr><tr><td>10</td><td>Battus polydamas (Linnaeus, 1758)</td><td><div class=\"dni-plaintext\">26.351099</div></td><td><div class=\"dni-plaintext\">-98.344747</div></td><td><span>2021-02-14 22:20:54Z</span></td></tr><tr><td>11</td><td>Battus philenor (Linnaues, 1771)</td><td><div class=\"dni-plaintext\">29.55491</div></td><td><div class=\"dni-plaintext\">-98.237652</div></td><td><span>2021-02-12 15:13:21Z</span></td></tr><tr><td>12</td><td>Papilio multicaudata Kirby, 1884</td><td><div class=\"dni-plaintext\">29.656456</div></td><td><div class=\"dni-plaintext\">-98.616965</div></td><td><span>2021-02-15 00:20:41Z</span></td></tr><tr><td>13</td><td>Papilio anchisiades Esper, 1788</td><td><div class=\"dni-plaintext\">26.080642</div></td><td><div class=\"dni-plaintext\">-98.136166</div></td><td><span>2021-02-16 01:11:41Z</span></td></tr><tr><td>14</td><td>Battus philenor (Linnaues, 1771)</td><td><div class=\"dni-plaintext\">30.183931</div></td><td><div class=\"dni-plaintext\">-97.726007</div></td><td><span>2021-02-14 19:06:36Z</span></td></tr><tr><td>15</td><td>Papilio polibetes Stoll, 1781</td><td><div class=\"dni-plaintext\">29.553686</div></td><td><div class=\"dni-plaintext\">-98.236276</div></td><td><span>2021-02-12 15:13:17Z</span></td></tr><tr><td>16</td><td>Papilio rumiko (Shiraiwa &amp; Grishin, 2014)</td><td><div class=\"dni-plaintext\">29.553312</div></td><td><div class=\"dni-plaintext\">-98.236501</div></td><td><span>2021-02-27 13:55:39Z</span></td></tr><tr><td>17</td><td>Papilio polibetes Stoll, 1781</td><td><div class=\"dni-plaintext\">30.269089</div></td><td><div class=\"dni-plaintext\">-97.627769</div></td><td><span>2021-02-22 23:25:17Z</span></td></tr><tr><td>18</td><td>Papilio ornythion Boisduval, 1836</td><td><div class=\"dni-plaintext\">26.584771</div></td><td><div class=\"dni-plaintext\">-99.149252</div></td><td><span>2021-02-23 21:44:15Z</span></td></tr><tr><td>19</td><td>Papilio rumiko (Shiraiwa &amp; Grishin, 2014)</td><td><div class=\"dni-plaintext\">29.45797</div></td><td><div class=\"dni-plaintext\">-98.458514</div></td><td><span>2020-11-14 03:37:41Z</span></td></tr><tr><td colspan=\"5\"><i>... (more)</i></td></tr></tbody></table>"
            ]
          },
          "metadata": {},
          "output_type": "display_data"
        }
      ],
      "source": [
        "using DwC_A;\n",
        "using DwC_A.Factories;\n",
        "using DwC_A.Config;\n",
        "\n",
        "var factory = new DefaultFactory((cfg) => {\n",
        "    cfg.Add<RowFactoryConfiguration>(c => c.Strategy = RowStrategy.Greedy);\n",
        "});\n",
        "\n",
        "var archive = new ArchiveReader(\"./data/Papilionidae.zip\", factory);\n",
        "\n",
        "var occurrences = archive.CoreFile\n",
        "    .DataRows\n",
        "    .Where(row => row[Terms.decimalLatitude] != null)\n",
        "    .Where(row => row[Terms.dateIdentified] != null)\n",
        "    .Map<Occurrence>(mapper);\n",
        "\n",
        "occurrences.Select(o => new {\n",
        "    o.ScientificName,\n",
        "    o.Latitude,\n",
        "    o.Longitude,\n",
        "    o.DateIdentified\n",
        "})"
      ]
    },
    {
      "cell_type": "markdown",
      "metadata": {},
      "source": [
        "## Manual Mapping\n",
        "\n",
        "If you already have a class definition or want to create the class definition by hand then use this method.\n",
        "\n",
        "Classes may be defined two ways.\n",
        "\n",
        "1. Defined directly in a cell.\n",
        "1. Loaded from a file on disk using the #load magic command.\n",
        "\n",
        "In this instance we'll load the class definition from a file.  After that we can define a mapper and map method."
      ]
    },
    {
      "cell_type": "code",
      "execution_count": 6,
      "metadata": {
        "dotnet_interactive": {
          "language": "csharp"
        },
        "vscode": {
          "languageId": "dotnet-interactive.csharp"
        }
      },
      "outputs": [
        {
          "data": {
            "text/html": [
              "<table><thead><tr><th><i>index</i></th><th>GbifID</th><th>Type</th><th>Identifier</th><th>Created</th><th>Creator</th></tr></thead><tbody><tr><td>0</td><td><div class=\"dni-plaintext\">3044911996</div></td><td>StillImage</td><td>https://inaturalist-open-data.s3.amazonaws.com/photos/113743750/original.jpg?1614044752</td><td><span>2020-09-14 12:35:15Z</span></td><td><div class=\"dni-plaintext\">&lt;null&gt;</div></td></tr><tr><td>1</td><td><div class=\"dni-plaintext\">3044896703</div></td><td>StillImage</td><td>https://inaturalist-open-data.s3.amazonaws.com/photos/113394978/original.jpg?1613765341</td><td><span>2020-04-06 19:36:03Z</span></td><td><div class=\"dni-plaintext\">&lt;null&gt;</div></td></tr><tr><td>2</td><td><div class=\"dni-plaintext\">3044892607</div></td><td>StillImage</td><td>https://inaturalist-open-data.s3.amazonaws.com/photos/113344109/original.jpeg?1613707791</td><td><span>2006-04-30 11:47:01Z</span></td><td><div class=\"dni-plaintext\">&lt;null&gt;</div></td></tr><tr><td>3</td><td><div class=\"dni-plaintext\">3044876974</div></td><td>StillImage</td><td>https://inaturalist-open-data.s3.amazonaws.com/photos/113796898/original.jpg?1614103220</td><td><span>2003-06-25 11:55:00Z</span></td><td><div class=\"dni-plaintext\">&lt;null&gt;</div></td></tr><tr><td>4</td><td><div class=\"dni-plaintext\">3044875694</div></td><td>StillImage</td><td>https://inaturalist-open-data.s3.amazonaws.com/photos/113535495/original.jpg?1613878613</td><td><span>2020-10-09 06:45:42Z</span></td><td><div class=\"dni-plaintext\">&lt;null&gt;</div></td></tr><tr><td>5</td><td><div class=\"dni-plaintext\">3044875210</div></td><td>StillImage</td><td>https://inaturalist-open-data.s3.amazonaws.com/photos/113937636/original.jpg?1614218182</td><td><span>2015-05-09 12:53:30Z</span></td><td><div class=\"dni-plaintext\">&lt;null&gt;</div></td></tr><tr><td>6</td><td><div class=\"dni-plaintext\">3044864241</div></td><td>StillImage</td><td>https://inaturalist-open-data.s3.amazonaws.com/photos/113945923/original.jpg?1614224485</td><td><span>2016-04-09 12:37:20Z</span></td><td><div class=\"dni-plaintext\">&lt;null&gt;</div></td></tr><tr><td>7</td><td><div class=\"dni-plaintext\">3044857233</div></td><td>StillImage</td><td>https://inaturalist-open-data.s3.amazonaws.com/photos/113993610/original.jpg?1614278545</td><td><span>2021-02-25 08:55:07Z</span></td><td><div class=\"dni-plaintext\">&lt;null&gt;</div></td></tr><tr><td>8</td><td><div class=\"dni-plaintext\">3044857233</div></td><td>StillImage</td><td>https://inaturalist-open-data.s3.amazonaws.com/photos/113993597/original.jpg?1614278538</td><td><span>2021-02-25 08:55:07Z</span></td><td><div class=\"dni-plaintext\">&lt;null&gt;</div></td></tr><tr><td>9</td><td><div class=\"dni-plaintext\">3044837653</div></td><td>StillImage</td><td>https://static.inaturalist.org/photos/91859858/original.jpg?1598389359</td><td><span>2020-08-13 07:22:56Z</span></td><td><div class=\"dni-plaintext\">&lt;null&gt;</div></td></tr><tr><td>10</td><td><div class=\"dni-plaintext\">3044833915</div></td><td>StillImage</td><td>https://static.inaturalist.org/photos/112702009/original.jpg?1613141334</td><td><span>2014-03-31 19:00:00Z</span></td><td><div class=\"dni-plaintext\">&lt;null&gt;</div></td></tr><tr><td>11</td><td><div class=\"dni-plaintext\">3044807181</div></td><td>StillImage</td><td>https://static.inaturalist.org/photos/112938278/original.jpeg?1613340623</td><td><span>2021-02-03 17:00:40Z</span></td><td><div class=\"dni-plaintext\">&lt;null&gt;</div></td></tr><tr><td>12</td><td><div class=\"dni-plaintext\">3044806945</div></td><td>StillImage</td><td>https://static.inaturalist.org/photos/112701979/original.jpg?1613141312</td><td><span>2014-05-06 19:00:00Z</span></td><td><div class=\"dni-plaintext\">&lt;null&gt;</div></td></tr><tr><td>13</td><td><div class=\"dni-plaintext\">3044781155</div></td><td>StillImage</td><td>https://static.inaturalist.org/photos/112947691/original.jpg?1613346310</td><td><span>2021-02-03 14:36:00Z</span></td><td><div class=\"dni-plaintext\">&lt;null&gt;</div></td></tr><tr><td>14</td><td><div class=\"dni-plaintext\">3044781155</div></td><td>StillImage</td><td>https://static.inaturalist.org/photos/112947696/original.jpg?1613346315</td><td><span>2021-02-03 14:36:00Z</span></td><td><div class=\"dni-plaintext\">&lt;null&gt;</div></td></tr><tr><td>15</td><td><div class=\"dni-plaintext\">3044781155</div></td><td>StillImage</td><td>https://static.inaturalist.org/photos/112947685/original.jpg?1613346306</td><td><span>2021-02-03 14:36:00Z</span></td><td><div class=\"dni-plaintext\">&lt;null&gt;</div></td></tr><tr><td>16</td><td><div class=\"dni-plaintext\">3044777286</div></td><td>StillImage</td><td>https://static.inaturalist.org/photos/113054409/original.jpg?1613437817</td><td><span>2004-10-22 19:00:00Z</span></td><td><div class=\"dni-plaintext\">&lt;null&gt;</div></td></tr><tr><td>17</td><td><div class=\"dni-plaintext\">3044776058</div></td><td>StillImage</td><td>https://static.inaturalist.org/photos/112807664/original.jpg?1613240927</td><td><span>2019-06-11 09:00:00Z</span></td><td><div class=\"dni-plaintext\">&lt;null&gt;</div></td></tr><tr><td>18</td><td><div class=\"dni-plaintext\">3044766899</div></td><td>StillImage</td><td>https://static.inaturalist.org/photos/112701871/original.jpg?1613141240</td><td><span>2015-04-27 11:09:53Z</span></td><td><div class=\"dni-plaintext\">&lt;null&gt;</div></td></tr><tr><td>19</td><td><div class=\"dni-plaintext\">3044748925</div></td><td>StillImage</td><td>https://static.inaturalist.org/photos/112701923/original.jpg?1613141267</td><td><span>2014-04-15 19:00:00Z</span></td><td><div class=\"dni-plaintext\">&lt;null&gt;</div></td></tr><tr><td colspan=\"6\"><i>... (more)</i></td></tr></tbody></table>"
            ]
          },
          "metadata": {},
          "output_type": "display_data"
        }
      ],
      "source": [
        "#load \"./Code/Multimedia.cs\"\n",
        "\n",
        "using System;\n",
        "\n",
        "var multimediaMapper = MapperFactory.CreateMapper<Multimedia>((m, row) => {\n",
        "    m.GbifID = row.Convert<long>(\"http://rs.gbif.org/terms/1.0/gbifID\");\n",
        "    m.Type = row[\"http://purl.org/dc/terms/type\"];\n",
        "    m.Identifier = row[\"http://purl.org/dc/terms/identifier\"];\n",
        "    m.Created = row.Convert<DateTime>(\"http://purl.org/dc/terms/created\");\n",
        "});\n",
        "\n",
        "archive.Extensions\n",
        "    .GetFileReadersByRowType(\"http://rs.gbif.org/terms/1.0/Multimedia\")\n",
        "    .FirstOrDefault()?\n",
        "    .Map<Multimedia>(multimediaMapper)"
      ]
    },
    {
      "cell_type": "markdown",
      "metadata": {},
      "source": [
        "## Using With Microsoft.ML\n",
        "\n",
        "Now that we have mapped an IEnumerable of Occurrences we can load the data into an IDataView or DataFrame using MLContext from [Microsoft.ML](https://www.nuget.org/packages/Microsoft.ML/)."
      ]
    },
    {
      "cell_type": "code",
      "execution_count": 7,
      "metadata": {
        "dotnet_interactive": {
          "language": "csharp"
        },
        "vscode": {
          "languageId": "dotnet-interactive.csharp"
        }
      },
      "outputs": [
        {
          "data": {
            "text/html": [
              "<table><thead><tr><th><i>index</i></th><th>Name</th><th>Index</th><th>IsHidden</th><th>Type</th><th>Annotations</th></tr></thead><tbody><tr><td>0</td><td>GbifID</td><td><div class=\"dni-plaintext\">0</div></td><td><div class=\"dni-plaintext\">False</div></td><td><table><thead><tr><th>RawType</th></tr></thead><tbody><tr><td><div class=\"dni-plaintext\">System.ReadOnlyMemory&lt;System.Char&gt;</div></td></tr></tbody></table></td><td><table><thead><tr><th>Schema</th></tr></thead><tbody><tr><td><div class=\"dni-plaintext\">[  ]</div></td></tr></tbody></table></td></tr><tr><td>1</td><td>Abstract</td><td><div class=\"dni-plaintext\">1</div></td><td><div class=\"dni-plaintext\">False</div></td><td><table><thead><tr><th>RawType</th></tr></thead><tbody><tr><td><div class=\"dni-plaintext\">System.ReadOnlyMemory&lt;System.Char&gt;</div></td></tr></tbody></table></td><td><table><thead><tr><th>Schema</th></tr></thead><tbody><tr><td><div class=\"dni-plaintext\">[  ]</div></td></tr></tbody></table></td></tr><tr><td>2</td><td>AccessRights</td><td><div class=\"dni-plaintext\">2</div></td><td><div class=\"dni-plaintext\">False</div></td><td><table><thead><tr><th>RawType</th></tr></thead><tbody><tr><td><div class=\"dni-plaintext\">System.ReadOnlyMemory&lt;System.Char&gt;</div></td></tr></tbody></table></td><td><table><thead><tr><th>Schema</th></tr></thead><tbody><tr><td><div class=\"dni-plaintext\">[  ]</div></td></tr></tbody></table></td></tr><tr><td>3</td><td>AccrualMethod</td><td><div class=\"dni-plaintext\">3</div></td><td><div class=\"dni-plaintext\">False</div></td><td><table><thead><tr><th>RawType</th></tr></thead><tbody><tr><td><div class=\"dni-plaintext\">System.ReadOnlyMemory&lt;System.Char&gt;</div></td></tr></tbody></table></td><td><table><thead><tr><th>Schema</th></tr></thead><tbody><tr><td><div class=\"dni-plaintext\">[  ]</div></td></tr></tbody></table></td></tr><tr><td>4</td><td>AccrualPeriodicity</td><td><div class=\"dni-plaintext\">4</div></td><td><div class=\"dni-plaintext\">False</div></td><td><table><thead><tr><th>RawType</th></tr></thead><tbody><tr><td><div class=\"dni-plaintext\">System.ReadOnlyMemory&lt;System.Char&gt;</div></td></tr></tbody></table></td><td><table><thead><tr><th>Schema</th></tr></thead><tbody><tr><td><div class=\"dni-plaintext\">[  ]</div></td></tr></tbody></table></td></tr><tr><td>5</td><td>AccrualPolicy</td><td><div class=\"dni-plaintext\">5</div></td><td><div class=\"dni-plaintext\">False</div></td><td><table><thead><tr><th>RawType</th></tr></thead><tbody><tr><td><div class=\"dni-plaintext\">System.ReadOnlyMemory&lt;System.Char&gt;</div></td></tr></tbody></table></td><td><table><thead><tr><th>Schema</th></tr></thead><tbody><tr><td><div class=\"dni-plaintext\">[  ]</div></td></tr></tbody></table></td></tr><tr><td>6</td><td>Alternative</td><td><div class=\"dni-plaintext\">6</div></td><td><div class=\"dni-plaintext\">False</div></td><td><table><thead><tr><th>RawType</th></tr></thead><tbody><tr><td><div class=\"dni-plaintext\">System.ReadOnlyMemory&lt;System.Char&gt;</div></td></tr></tbody></table></td><td><table><thead><tr><th>Schema</th></tr></thead><tbody><tr><td><div class=\"dni-plaintext\">[  ]</div></td></tr></tbody></table></td></tr><tr><td>7</td><td>Audience</td><td><div class=\"dni-plaintext\">7</div></td><td><div class=\"dni-plaintext\">False</div></td><td><table><thead><tr><th>RawType</th></tr></thead><tbody><tr><td><div class=\"dni-plaintext\">System.ReadOnlyMemory&lt;System.Char&gt;</div></td></tr></tbody></table></td><td><table><thead><tr><th>Schema</th></tr></thead><tbody><tr><td><div class=\"dni-plaintext\">[  ]</div></td></tr></tbody></table></td></tr><tr><td>8</td><td>Available</td><td><div class=\"dni-plaintext\">8</div></td><td><div class=\"dni-plaintext\">False</div></td><td><table><thead><tr><th>RawType</th></tr></thead><tbody><tr><td><div class=\"dni-plaintext\">System.ReadOnlyMemory&lt;System.Char&gt;</div></td></tr></tbody></table></td><td><table><thead><tr><th>Schema</th></tr></thead><tbody><tr><td><div class=\"dni-plaintext\">[  ]</div></td></tr></tbody></table></td></tr><tr><td>9</td><td>BibliographicCitation</td><td><div class=\"dni-plaintext\">9</div></td><td><div class=\"dni-plaintext\">False</div></td><td><table><thead><tr><th>RawType</th></tr></thead><tbody><tr><td><div class=\"dni-plaintext\">System.ReadOnlyMemory&lt;System.Char&gt;</div></td></tr></tbody></table></td><td><table><thead><tr><th>Schema</th></tr></thead><tbody><tr><td><div class=\"dni-plaintext\">[  ]</div></td></tr></tbody></table></td></tr><tr><td>10</td><td>ConformsTo</td><td><div class=\"dni-plaintext\">10</div></td><td><div class=\"dni-plaintext\">False</div></td><td><table><thead><tr><th>RawType</th></tr></thead><tbody><tr><td><div class=\"dni-plaintext\">System.ReadOnlyMemory&lt;System.Char&gt;</div></td></tr></tbody></table></td><td><table><thead><tr><th>Schema</th></tr></thead><tbody><tr><td><div class=\"dni-plaintext\">[  ]</div></td></tr></tbody></table></td></tr><tr><td>11</td><td>Contributor</td><td><div class=\"dni-plaintext\">11</div></td><td><div class=\"dni-plaintext\">False</div></td><td><table><thead><tr><th>RawType</th></tr></thead><tbody><tr><td><div class=\"dni-plaintext\">System.ReadOnlyMemory&lt;System.Char&gt;</div></td></tr></tbody></table></td><td><table><thead><tr><th>Schema</th></tr></thead><tbody><tr><td><div class=\"dni-plaintext\">[  ]</div></td></tr></tbody></table></td></tr><tr><td>12</td><td>Coverage</td><td><div class=\"dni-plaintext\">12</div></td><td><div class=\"dni-plaintext\">False</div></td><td><table><thead><tr><th>RawType</th></tr></thead><tbody><tr><td><div class=\"dni-plaintext\">System.ReadOnlyMemory&lt;System.Char&gt;</div></td></tr></tbody></table></td><td><table><thead><tr><th>Schema</th></tr></thead><tbody><tr><td><div class=\"dni-plaintext\">[  ]</div></td></tr></tbody></table></td></tr><tr><td>13</td><td>Created</td><td><div class=\"dni-plaintext\">13</div></td><td><div class=\"dni-plaintext\">False</div></td><td><table><thead><tr><th>RawType</th></tr></thead><tbody><tr><td><div class=\"dni-plaintext\">System.ReadOnlyMemory&lt;System.Char&gt;</div></td></tr></tbody></table></td><td><table><thead><tr><th>Schema</th></tr></thead><tbody><tr><td><div class=\"dni-plaintext\">[  ]</div></td></tr></tbody></table></td></tr><tr><td>14</td><td>Creator</td><td><div class=\"dni-plaintext\">14</div></td><td><div class=\"dni-plaintext\">False</div></td><td><table><thead><tr><th>RawType</th></tr></thead><tbody><tr><td><div class=\"dni-plaintext\">System.ReadOnlyMemory&lt;System.Char&gt;</div></td></tr></tbody></table></td><td><table><thead><tr><th>Schema</th></tr></thead><tbody><tr><td><div class=\"dni-plaintext\">[  ]</div></td></tr></tbody></table></td></tr><tr><td>15</td><td>Date</td><td><div class=\"dni-plaintext\">15</div></td><td><div class=\"dni-plaintext\">False</div></td><td><table><thead><tr><th>RawType</th></tr></thead><tbody><tr><td><div class=\"dni-plaintext\">System.ReadOnlyMemory&lt;System.Char&gt;</div></td></tr></tbody></table></td><td><table><thead><tr><th>Schema</th></tr></thead><tbody><tr><td><div class=\"dni-plaintext\">[  ]</div></td></tr></tbody></table></td></tr><tr><td>16</td><td>DateAccepted</td><td><div class=\"dni-plaintext\">16</div></td><td><div class=\"dni-plaintext\">False</div></td><td><table><thead><tr><th>RawType</th></tr></thead><tbody><tr><td><div class=\"dni-plaintext\">System.ReadOnlyMemory&lt;System.Char&gt;</div></td></tr></tbody></table></td><td><table><thead><tr><th>Schema</th></tr></thead><tbody><tr><td><div class=\"dni-plaintext\">[  ]</div></td></tr></tbody></table></td></tr><tr><td>17</td><td>DateCopyrighted</td><td><div class=\"dni-plaintext\">17</div></td><td><div class=\"dni-plaintext\">False</div></td><td><table><thead><tr><th>RawType</th></tr></thead><tbody><tr><td><div class=\"dni-plaintext\">System.ReadOnlyMemory&lt;System.Char&gt;</div></td></tr></tbody></table></td><td><table><thead><tr><th>Schema</th></tr></thead><tbody><tr><td><div class=\"dni-plaintext\">[  ]</div></td></tr></tbody></table></td></tr><tr><td>18</td><td>DateSubmitted</td><td><div class=\"dni-plaintext\">18</div></td><td><div class=\"dni-plaintext\">False</div></td><td><table><thead><tr><th>RawType</th></tr></thead><tbody><tr><td><div class=\"dni-plaintext\">System.ReadOnlyMemory&lt;System.Char&gt;</div></td></tr></tbody></table></td><td><table><thead><tr><th>Schema</th></tr></thead><tbody><tr><td><div class=\"dni-plaintext\">[  ]</div></td></tr></tbody></table></td></tr><tr><td>19</td><td>Description</td><td><div class=\"dni-plaintext\">19</div></td><td><div class=\"dni-plaintext\">False</div></td><td><table><thead><tr><th>RawType</th></tr></thead><tbody><tr><td><div class=\"dni-plaintext\">System.ReadOnlyMemory&lt;System.Char&gt;</div></td></tr></tbody></table></td><td><table><thead><tr><th>Schema</th></tr></thead><tbody><tr><td><div class=\"dni-plaintext\">[  ]</div></td></tr></tbody></table></td></tr><tr><td colspan=\"6\"><i>... (more)</i></td></tr></tbody></table>"
            ]
          },
          "metadata": {},
          "output_type": "display_data"
        }
      ],
      "source": [
        "using Microsoft.ML;\n",
        "using Microsoft.ML.Data;\n",
        "\n",
        "var mlContext = new MLContext();\n",
        "\n",
        "var data = mlContext.Data.LoadFromEnumerable<Occurrence>(occurrences);\n",
        "\n",
        "data.Schema"
      ]
    }
  ],
  "metadata": {
    "kernelspec": {
      "display_name": ".NET (C#)",
      "language": "C#",
      "name": ".net-csharp"
    },
    "language_info": {
      "file_extension": ".cs",
      "mimetype": "text/x-csharp",
      "name": "C#",
      "pygments_lexer": "csharp",
      "version": "8.0"
    }
  },
  "nbformat": 4,
  "nbformat_minor": 4
}
