{
  "cells": [
    {
      "cell_type": "markdown",
      "metadata": {},
      "source": [
        "# Data Conversion and Mapping\n",
        "\n",
        "File data fields can be converted to strongly typed objects using one of the Convert extension methods of the IRow interface.  Documentation can be found [here](https://github.com/pjoiner/DwC-A_dotnet/wiki/Type-Conversion).\n",
        "\n",
        "We'll utilize the [DwC-A_dotnet.Mapping](https://github.com/pjoiner/DwC-A_dotnet.Mapping) extension library to map IRow fields to a model class."
      ]
    },
    {
      "cell_type": "code",
      "execution_count": 1,
      "metadata": {
        "dotnet_interactive": {
          "language": "csharp"
        }
      },
      "source": [
        "#r \"nuget:DwC-A_dotnet,0.6.0\"\n",
        "#r \"nuget:DwC-A_dotnet.Mapping,0.6.1\"\n",
        "#r \"nuget:DwC-A_dotnet.Interactive,0.1.8-Pre\""
      ],
      "outputs": []
    },
    {
      "cell_type": "markdown",
      "metadata": {},
      "source": [
        "## Model Class\n",
        "\n",
        "First create the class that you wish to map values to.  In this instance we are going to create an Occurrence class to display the scientific name and coordinates of the observation."
      ]
    },
    {
      "cell_type": "code",
      "execution_count": 1,
      "metadata": {
        "dotnet_interactive": {
          "language": "csharp"
        }
      },
      "source": [
        "using DwC_A;\n",
        "\n",
        "var outputPath = \"./data/Papilionidae.zip\";\n",
        "var archive = new ArchiveReader(outputPath);\n",
        "\n",
        "archive"
      ],
      "outputs": []
    },
    {
      "cell_type": "markdown",
      "metadata": {},
      "source": [
        "## Class Definition\n",
        "\n",
        "The next cell loads a class definition to map the data into.  This code can be created by hand or generated using the dotnet tool [dwca-codegen](https://www.nuget.org/packages/dwca-codegen/) which is available on NuGet.  For more information on using [dwca-codegen](https://github.com/pjoiner/DwC-A_dotnet.Mapping/tree/master/src/dwca-codegen) see the [README.md](https://github.com/pjoiner/DwC-A_dotnet.Mapping/blob/master/src/dwca-codegen/README.md) file for that package / repo.\n",
        "\n",
        "**Note:** Make sure you set the namespace to \"\" when generating class files from an archive for use in dotnet interactive since namespaces aren't allowed."
      ]
    },
    {
      "cell_type": "code",
      "execution_count": 1,
      "metadata": {
        "dotnet_interactive": {
          "language": "csharp"
        }
      },
      "source": [
        "#load \"./code/Occurrence.cs\""
      ],
      "outputs": []
    },
    {
      "cell_type": "markdown",
      "metadata": {},
      "source": [
        "## Mapper\n",
        "\n",
        "Next we create a mapper and define a method for mapping the fields of the IRow to the class."
      ]
    },
    {
      "cell_type": "code",
      "execution_count": 1,
      "metadata": {
        "dotnet_interactive": {
          "language": "csharp"
        }
      },
      "source": [
        "using DwC_A.Mapping;\n",
        "using DwC_A.Terms;\n",
        "using DwC_A.Extensions;\n",
        "\n",
        "var mapper = MapperFactory.CreateMapper<Occurrence>((o, row) => {\n",
        "    o.GbifID = row[\"http://rs.gbif.org/terms/1.0/gbifID\"];\n",
        "    o.Identifier = row[\"http://purl.org/dc/terms/identifier\"];\n",
        "    o.ScientificName = row[Terms.scientificName];\n",
        "    o.DecimalLongitude = row.Convert<double>(Terms.decimalLongitude);\n",
        "    o.DecimalLatitude = row.Convert<double>(Terms.decimalLatitude);\n",
        "});"
      ],
      "outputs": []
    },
    {
      "cell_type": "markdown",
      "metadata": {},
      "source": [
        "## Map\n",
        "\n",
        "Finally, we map the data using the Map methods of either the IRow or IFileReader interfaces."
      ]
    },
    {
      "cell_type": "code",
      "execution_count": 1,
      "metadata": {
        "dotnet_interactive": {
          "language": "csharp"
        }
      },
      "source": [
        "archive.CoreFile\n",
        "    .Map<Occurrence>(mapper)\n",
        "    .Take(100)\n",
        "    .Select(n => new{n.GbifID, n.Identifier, n.ScientificName, n.DecimalLatitude, n.DecimalLongitude})"
      ],
      "outputs": []
    }
  ],
  "metadata": {
    "kernelspec": {
      "display_name": ".NET (C#)",
      "language": "C#",
      "name": ".net-csharp"
    },
    "language_info": {
      "file_extension": ".cs",
      "mimetype": "text/x-csharp",
      "name": "C#",
      "pygments_lexer": "csharp",
      "version": "8.0"
    }
  },
  "nbformat": 4,
  "nbformat_minor": 4
}