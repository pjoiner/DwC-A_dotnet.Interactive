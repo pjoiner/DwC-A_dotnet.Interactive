{
  "cells": [
    {
      "cell_type": "markdown",
      "metadata": {},
      "source": [
        "# Mapping\n",
        "\n",
        "Using the [DwC-A_dotnet.Mapping](https://www.nuget.org/packages/DwC-A_dotnet.Mapping/) library we can map data from a [DwC-A_dotnet](https://www.nuget.org/packages/DwC-A_dotnet/) IRow to a strongly typed class.  There are two different approaches to mapping data\n",
        "\n",
        "1. Using the dwca-codegen magic command to generate a class and mapping method from archive metadata.  This requires the least code and is more interactive but can run into more issues.\n",
        "1. Manually create a class definition and mapping method.  This gives the most control over mapping but requires more effort. "
      ]
    },
    {
      "cell_type": "code",
      "execution_count": null,
      "metadata": {
        "dotnet_interactive": {
          "language": "csharp"
        }
      },
      "outputs": [],
      "source": [
        "#r \"nuget:DwC-A_dotnet.Interactive,0.1.9-Pre\"\n",
        "#r \"nuget:DwC-A_dotnet.Mapping,0.6.3\"\n",
        "#r \"nuget:Microsoft.ML\""
      ]
    },
    {
      "cell_type": "markdown",
      "metadata": {},
      "source": [
        "## Using The dwca-codegen Magic Command\n",
        "\n",
        "First, we will map using the dwca-codegen magic command.\n",
        "\n",
        "### Create Configuration\n",
        "\n",
        "This step is optional but gives more control over how classes are generated and mapped.  If this step is left out all properties will be mapped as string type.\n",
        "\n",
        "Use the GeneratorConfigurationBuilder to create a configuration to influence how the dwca-codegen command generates the class to be mapped for each file in the archive.\n",
        "\n",
        "Use the AppProperty method to define the properties that will be added to the generated classes and how they will be mapped to specific terms.  Use the wildcard term __*__ to determine whether properties will be created for all other undefined terms and mapped.\n",
        "\n",
        "The WithMapMethod creates a static method on the type called MapRow that will be used to map an IRow row to an instance of the generated class."
      ]
    },
    {
      "cell_type": "code",
      "execution_count": null,
      "metadata": {
        "dotnet_interactive": {
          "language": "csharp"
        }
      },
      "outputs": [],
      "source": [
        "using DwC_A.Interactive.Mapping;\n",
        "using DwC_A.Terms;\n",
        "\n",
        "var config = new GeneratorConfigurationBuilder()\n",
        ".AddProperty(\"*\", \"string\", true)\n",
        ".AddProperty(Terms.decimalLatitude, \"double\", true, \"Latitude\")\n",
        ".AddProperty(Terms.decimalLongitude, \"double\", true, \"Longitude\")\n",
        ".AddProperty(Terms.dateIdentified, \"DateTime\")\n",
        ".WithMapMethod(true)\n",
        ".Build();\n",
        "\n",
        "config"
      ]
    },
    {
      "cell_type": "markdown",
      "metadata": {},
      "source": [
        "### dwca-codegen\n",
        "\n",
        "Use the dwca-codegen command to examine the archive and generate classes to map data into.  The --configName option can be used to specify the name of the variable that contains the configuration information we created earlier. "
      ]
    },
    {
      "cell_type": "code",
      "execution_count": null,
      "metadata": {
        "dotnet_interactive": {
          "language": "csharp"
        }
      },
      "outputs": [],
      "source": [
        "#!dwca-codegen -h\n",
        "#!dwca-codegen -c config ./data/Papilionidae.zip"
      ]
    },
    {
      "cell_type": "markdown",
      "metadata": {},
      "source": [
        "## Create Mapper\n",
        "\n",
        "Now that we have class definitions and a mapping method we can define a mapper as follows."
      ]
    },
    {
      "cell_type": "code",
      "execution_count": null,
      "metadata": {
        "dotnet_interactive": {
          "language": "csharp"
        }
      },
      "outputs": [],
      "source": [
        "using DwC_A.Mapping;\n",
        "\n",
        "var mapper = MapperFactory.CreateMapper<Occurrence>(Occurrence.MapRow);\n"
      ]
    },
    {
      "cell_type": "markdown",
      "metadata": {},
      "source": [
        "## Map Archive\n",
        "\n",
        "Finally, we can open the archive and query rows that we can map using the mapper.\n",
        "\n",
        "**Hint:** Use the Greedy RowStrategy for better performance when mapping the entire class.\n",
        "\n",
        "There are three different Map extensions for the IFileReader and IRow interfaces returned by the ArchiveReader."
      ]
    },
    {
      "cell_type": "code",
      "execution_count": null,
      "metadata": {
        "dotnet_interactive": {
          "language": "csharp"
        }
      },
      "outputs": [],
      "source": [
        "using DwC_A;\n",
        "using DwC_A.Factories;\n",
        "using DwC_A.Config;\n",
        "\n",
        "var factory = new DefaultFactory((cfg) => {\n",
        "    cfg.Add<RowFactoryConfiguration>(c => c.Strategy = RowStrategy.Greedy);\n",
        "});\n",
        "\n",
        "var archive = new ArchiveReader(\"./data/Papilionidae.zip\", factory);\n",
        "\n",
        "var occurrences = archive.CoreFile\n",
        "    .DataRows\n",
        "    .Where(row => row[Terms.decimalLatitude] != null)\n",
        "    .Where(row => row[Terms.dateIdentified] != null)\n",
        "    .Map<Occurrence>(mapper);\n",
        "\n",
        "occurrences.Select(o => new {\n",
        "    o.ScientificName,\n",
        "    o.Latitude,\n",
        "    o.Longitude,\n",
        "    o.DateIdentified\n",
        "})"
      ]
    },
    {
      "cell_type": "markdown",
      "metadata": {},
      "source": [
        "## Manual Mapping\n",
        "\n",
        "If you already have a class definition or want to create the class definition by hand then use this method.\n",
        "\n",
        "Classes may be defined two ways.\n",
        "\n",
        "1. Defined directly in a cell.\n",
        "1. Loaded from a file on disk using the #load magic command.\n",
        "\n",
        "In this instance we'll load the class definition from a file.  After that we can define a mapper and map method."
      ]
    },
    {
      "cell_type": "code",
      "execution_count": null,
      "metadata": {
        "dotnet_interactive": {
          "language": "csharp"
        }
      },
      "outputs": [],
      "source": [
        "#load \"./Code/Multimedia.cs\"\n",
        "\n",
        "using System;\n",
        "\n",
        "var multimediaMapper = MapperFactory.CreateMapper<Multimedia>((m, row) => {\n",
        "    m.GbifID = row.Convert<long>(\"http://rs.gbif.org/terms/1.0/gbifID\");\n",
        "    m.Type = row[\"http://purl.org/dc/terms/type\"];\n",
        "    m.Identifier = row[\"http://purl.org/dc/terms/identifier\"];\n",
        "    m.Created = row.Convert<DateTime>(\"http://purl.org/dc/terms/created\");\n",
        "});\n",
        "\n",
        "archive.Extensions\n",
        "    .GetFileReadersByRowType(\"http://rs.gbif.org/terms/1.0/Multimedia\")\n",
        "    .FirstOrDefault()?\n",
        "    .Map<Multimedia>(multimediaMapper)"
      ]
    },
    {
      "cell_type": "markdown",
      "metadata": {},
      "source": [
        "## Using With Microsoft.ML\n",
        "\n",
        "Now that we have mapped an IEnumerable of Occurrences we can load the data into an IDataView or DataFrame using MLContext from [Microsoft.ML](https://www.nuget.org/packages/Microsoft.ML/)."
      ]
    },
    {
      "cell_type": "code",
      "execution_count": null,
      "metadata": {
        "dotnet_interactive": {
          "language": "csharp"
        }
      },
      "outputs": [],
      "source": [
        "using Microsoft.ML;\n",
        "using Microsoft.ML.Data;\n",
        "\n",
        "var mlContext = new MLContext();\n",
        "\n",
        "var data = mlContext.Data.LoadFromEnumerable<Occurrence>(occurrences);\n",
        "\n",
        "data.Schema"
      ]
    }
  ],
  "metadata": {
    "kernelspec": {
      "display_name": ".NET (C#)",
      "language": "C#",
      "name": ".net-csharp"
    },
    "language_info": {
      "file_extension": ".cs",
      "mimetype": "text/x-csharp",
      "name": "C#",
      "pygments_lexer": "csharp",
      "version": "8.0"
    }
  },
  "nbformat": 4,
  "nbformat_minor": 4
}
