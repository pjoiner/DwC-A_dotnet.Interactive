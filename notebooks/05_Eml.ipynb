{
  "cells": [
    {
      "cell_type": "markdown",
      "metadata": {},
      "source": [
        "# Ecological Metadata Language (EML)\n",
        "\n",
        "Some archives include additional metadata stored in the form of an XML file that uses [Ecological Metadata Language (EML)](https://eml.ecoinformatics.org/).  This path to this file can be retrieved from the `ArchiveReader.MetaData`.  This notebook describes how information can be retrieved from the dataset metadata and presented."
      ]
    },
    {
      "cell_type": "code",
      "execution_count": 1,
      "metadata": {
        "dotnet_interactive": {
          "language": "csharp"
        }
      },
      "source": [
        "#r \"nuget:DwC-A_dotnet,0.6.0\"\n",
        "#r \"nuget:DwC-A_dotnet.Interactive,0.1.8-Pre\""
      ],
      "outputs": []
    },
    {
      "cell_type": "code",
      "execution_count": 1,
      "metadata": {
        "dotnet_interactive": {
          "language": "csharp"
        }
      },
      "source": [
        "using DwC_A;\n",
        "using System.IO;\n",
        "\n",
        "var archive = new ArchiveReader(\"./data/dwca-rooftop-v1.4.zip\");\n",
        "var emlPath = Path.Combine(archive.OutputPath, archive.MetaData.Metadata);\n",
        "emlPath"
      ],
      "outputs": []
    },
    {
      "cell_type": "markdown",
      "metadata": {},
      "source": [
        "## Using XPath Queries\n",
        "\n",
        "Using an XPathNavigator object we can query into any part of the document and retrieve single elements or sections.\n",
        "\n",
        "For some tips on finding the information you need see the document [Best Practices for Dataset Metadata in Ecological Metadata Language (EML)](https://environmentaldatainitiative.org/five-phases-of-data-publishing/phase-3/metadata-best-practices/) available for download from [https://environmentaldatainitiative.org](https://environmentaldatainitiative.org)."
      ]
    },
    {
      "cell_type": "code",
      "execution_count": 1,
      "metadata": {
        "dotnet_interactive": {
          "language": "csharp"
        }
      },
      "source": [
        "using System.Xml;\n",
        "using System.Xml.XPath;\n",
        "\n",
        "var docNav = new XPathDocument(emlPath);\n",
        "var nav = docNav.CreateNavigator();\n",
        "XmlNamespaceManager nsmgr = new XmlNamespaceManager(nav.NameTable);\n",
        "nsmgr.AddNamespace(\"eml\", \"eml://ecoinformatics.org/eml-2.1.1\");\n",
        "var root = nav.SelectSingleNode(\"eml:eml\", nsmgr);\n",
        "\n",
        "var title = root.SelectSingleNode(\"dataset/title\", nsmgr).ToString();\n",
        "title"
      ],
      "outputs": []
    },
    {
      "cell_type": "markdown",
      "metadata": {},
      "source": [
        "## Formatter Shortcut\n",
        "\n",
        "The following Formatters can be used as a shortcut to display the results of simple queries.  Try some of the following in the cell following the next.\n",
        "\n",
        "* dataset/title\n",
        "* dataset/abstract/para\n",
        "* dataset/keywordSet/keyword\n",
        "* additionalMetadata/metadata/gbif/citation"
      ]
    },
    {
      "cell_type": "code",
      "execution_count": 1,
      "metadata": {
        "dotnet_interactive": {
          "language": "csharp"
        }
      },
      "source": [
        "using Microsoft.DotNet.Interactive.Formatting;\n",
        "using System.Xml.XPath;\n",
        "\n",
        "using static  Microsoft.DotNet.Interactive.Formatting.PocketViewTags;\n",
        "\n",
        "Formatter.Register<XPathNavigator>((nav, writer) => {\n",
        "    var output = p(nav.ToString());\n",
        "    writer.Write(output);\n",
        "}, \"text/html\");\n",
        "\n",
        "Formatter.Register<XPathNodeIterator>((iter, writer) => {\n",
        "    var outputList = new List<dynamic>();\n",
        "    foreach(var node in iter)\n",
        "    {\n",
        "        outputList.Add(p(node.ToString()));\n",
        "    }\n",
        "    writer.Write(div(outputList));\n",
        "}, \"text/html\");"
      ],
      "outputs": []
    },
    {
      "cell_type": "code",
      "execution_count": 1,
      "metadata": {
        "dotnet_interactive": {
          "language": "csharp"
        }
      },
      "source": [
        "root.Select(\"dataset/title\", nsmgr)"
      ],
      "outputs": []
    },
    {
      "cell_type": "markdown",
      "metadata": {},
      "source": [
        "## Using XSL Stylesheets\n",
        "\n",
        "We can also perform XSL Transforms on the data to produce an HTML document using the XslCompiledTransform class as follows.  Here we are using a the stylesheet eml.xslt to retrieve the document title, abstract and citation information."
      ]
    },
    {
      "cell_type": "code",
      "execution_count": 1,
      "metadata": {
        "dotnet_interactive": {
          "language": "csharp"
        }
      },
      "source": [
        "using System.Xml.Xsl;\n",
        "using System.Xml;\n",
        "using Microsoft.AspNetCore.Html;\n",
        "\n",
        "using static Microsoft.DotNet.Interactive.Formatting.PocketViewTags;\n",
        "\n",
        "using(var stringWriter = new StringWriter())\n",
        "using(var writer = new XmlTextWriter(stringWriter))\n",
        "{\n",
        "    XslCompiledTransform xslt = new XslCompiledTransform();\n",
        "    xslt.Load(\"./data/eml.xslt\");\n",
        "    xslt.Transform(emlPath, writer);\n",
        "    display(new HtmlString(stringWriter.ToString()));\n",
        "}"
      ],
      "outputs": []
    }
  ],
  "metadata": {
    "kernelspec": {
      "display_name": ".NET (C#)",
      "language": "C#",
      "name": ".net-csharp"
    },
    "language_info": {
      "file_extension": ".cs",
      "mimetype": "text/x-csharp",
      "name": "C#",
      "pygments_lexer": "csharp",
      "version": "8.0"
    }
  },
  "nbformat": 4,
  "nbformat_minor": 4
}