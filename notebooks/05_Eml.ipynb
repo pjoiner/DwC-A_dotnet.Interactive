{
 "cells": [
  {
   "cell_type": "markdown",
   "metadata": {},
   "source": [
    "# Ecological Metadata Language (EML)\r\n",
    "\r\n",
    "Some archives include additional metadata stored in the form of an XML file that uses [Ecological Metadata Language (EML)](https://eml.ecoinformatics.org/).  This path to this file can be retrieved from the `ArchiveReader.MetaData`.  This notebook describes how information can be retrieved from the dataset metadata and presented."
   ]
  },
  {
   "cell_type": "code",
   "execution_count": null,
   "metadata": {},
   "outputs": [],
   "source": [
    "#r \"nuget:DwC-A_dotnet,0.5.1\"\r\n",
    "#r \"nuget:DwC-A_dotnet.Interactive,0.1.7-Pre\""
   ]
  },
  {
   "cell_type": "code",
   "execution_count": null,
   "metadata": {},
   "outputs": [],
   "source": [
    "using DwC_A;\r\n",
    "using System.IO;\r\n",
    "\r\n",
    "var archive = new ArchiveReader(\"./data/dwca-rooftop-v1.4.zip\");\r\n",
    "var emlPath = Path.Combine(archive.OutputPath, archive.MetaData.Metadata);\r\n",
    "emlPath"
   ]
  },
  {
   "cell_type": "markdown",
   "metadata": {},
   "source": [
    "## Using XPath Queries\r\n",
    "\r\n",
    "Using an XPathNavigator object we can query into any part of the document and retrieve single elements or sections.\r\n",
    "\r\n",
    "For some tips on finding the information you need see the document [Best Practices for Dataset Metadata in Ecological Metadata Language (EML)](https://environmentaldatainitiative.org/five-phases-of-data-publishing/phase-3/metadata-best-practices/) available for download from [https://environmentaldatainitiative.org](https://environmentaldatainitiative.org)."
   ]
  },
  {
   "cell_type": "code",
   "execution_count": null,
   "metadata": {},
   "outputs": [],
   "source": [
    "using System.Xml;\r\n",
    "using System.Xml.XPath;\r\n",
    "\r\n",
    "var docNav = new XPathDocument(emlPath);\r\n",
    "var nav = docNav.CreateNavigator();\r\n",
    "XmlNamespaceManager nsmgr = new XmlNamespaceManager(nav.NameTable);\r\n",
    "nsmgr.AddNamespace(\"eml\", \"eml://ecoinformatics.org/eml-2.1.1\");\r\n",
    "var root = nav.SelectSingleNode(\"eml:eml\", nsmgr);\r\n",
    "\r\n",
    "var title = root.SelectSingleNode(\"dataset/title\", nsmgr).ToString();\r\n",
    "title"
   ]
  },
  {
   "cell_type": "markdown",
   "metadata": {},
   "source": [
    "## Formatter Shortcut\r\n",
    "\r\n",
    "The following Formatters can be used as a shortcut to display the results of simple queries.  Try some of the following in the cell following the next.\r\n",
    "\r\n",
    "* dataset/title\r\n",
    "* dataset/abstract/para\r\n",
    "* dataset/keywordSet/keyword\r\n",
    "* additionalMetadata/metadata/gbif/citation"
   ]
  },
  {
   "cell_type": "code",
   "execution_count": null,
   "metadata": {},
   "outputs": [],
   "source": [
    "using Microsoft.DotNet.Interactive.Formatting;\r\n",
    "using System.Xml.XPath;\r\n",
    "\r\n",
    "using static  Microsoft.DotNet.Interactive.Formatting.PocketViewTags;\r\n",
    "\r\n",
    "Formatter.Register<XPathNavigator>((nav, writer) => {\r\n",
    "    var output = p(nav.ToString());\r\n",
    "    writer.Write(output);\r\n",
    "}, \"text/html\");\r\n",
    "\r\n",
    "Formatter.Register<XPathNodeIterator>((iter, writer) => {\r\n",
    "    var outputList = new List<dynamic>();\r\n",
    "    foreach(var node in iter)\r\n",
    "    {\r\n",
    "        outputList.Add(p(node.ToString()));\r\n",
    "    }\r\n",
    "    writer.Write(div(outputList));\r\n",
    "}, \"text/html\");\r\n"
   ]
  },
  {
   "cell_type": "code",
   "execution_count": null,
   "metadata": {},
   "outputs": [],
   "source": [
    "root.Select(\"dataset/title\", nsmgr)"
   ]
  },
  {
   "cell_type": "markdown",
   "metadata": {},
   "source": [
    "## Using XSL Stylesheets\r\n",
    "\r\n",
    "We can also perform XSL Transforms on the data to produce an HTML document using the XslCompiledTransform class as follows.  Here we are using a the stylesheet eml.xslt to retrieve the document title, abstract and citation information."
   ]
  },
  {
   "cell_type": "code",
   "execution_count": null,
   "metadata": {},
   "outputs": [],
   "source": [
    "using System.Xml.Xsl;\r\n",
    "using System.Xml;\r\n",
    "using Microsoft.AspNetCore.Html;\r\n",
    "\r\n",
    "using static Microsoft.DotNet.Interactive.Formatting.PocketViewTags;\r\n",
    "\r\n",
    "using(var stringWriter = new StringWriter())\r\n",
    "using(var writer = new XmlTextWriter(stringWriter))\r\n",
    "{\r\n",
    "    XslCompiledTransform xslt = new XslCompiledTransform();\r\n",
    "    xslt.Load(\"./data/eml.xslt\");\r\n",
    "    xslt.Transform(emlPath, writer);\r\n",
    "    display(new HtmlString(stringWriter.ToString()));\r\n",
    "}"
   ]
  }
 ],
 "metadata": {
  "kernelspec": {
   "display_name": ".NET (C#)",
   "language": "C#",
   "metadata": {
    "interpreter": {
     "hash": "06a136a4bec6dd37550f67c12f0bc3840a5b46fcffdfeab5f0089641cb553d70"
    }
   },
   "name": ".net-csharp"
  },
  "language_info": {
   "name": "dotnet-interactive.csharp",
   "version": "3.8.8-final"
  },
  "orig_nbformat": 2
 },
 "nbformat": 4,
 "nbformat_minor": 2
}