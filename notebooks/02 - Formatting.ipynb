{
 "cells": [
  {
   "cell_type": "markdown",
   "metadata": {},
   "source": [
    "## Multimedia\r\n",
    "\r\n",
    "Here we will use a dataset containing some occurrences of the Zebra Longwing butterfly (*Heliconius charithonia*) that was queried from GBIF.org and display the images referenced in the Multimedia extension file."
   ]
  },
  {
   "cell_type": "code",
   "execution_count": null,
   "metadata": {},
   "outputs": [],
   "source": [
    "#r \"nuget:DwC-A_dotnet,0.5.1\"\r\n",
    "#r \"nuget:DwC-A_dotnet.Interactive,0.1.4-Pre\"\r\n",
    "#r \"C:\\Users\\pjoin\\source\\repos\\pjoiner\\DwC-A_dotnet.Extensions\\src\\DwC-A_dotnet.Extensions\\bin\\Debug\\net5.0\\DwC-A_dotnet.Extensions.dll\""
   ]
  },
  {
   "cell_type": "code",
   "execution_count": null,
   "metadata": {},
   "outputs": [],
   "source": [
    "using DwC_A;\r\n",
    "using System.IO.Compression;\r\n",
    "using System.IO;\r\n",
    "\r\n",
    "Directory.Delete(\"./data/Papilionidae\", true);\r\n",
    "ZipFile.ExtractToDirectory(\"./data/Papilionidae.zip\", \"./data/Papilionidae\");\r\n",
    "var papilionidae = new ArchiveReader(\"./data/Papilionidae\");\r\n",
    "var occurrence = papilionidae.CoreFile;\r\n",
    "occurrence\r\n"
   ]
  },
  {
   "cell_type": "code",
   "execution_count": null,
   "metadata": {},
   "outputs": [],
   "source": [
    "var multimedia = papilionidae.Extensions.GetFileReaderByFileName(\"multimedia.txt\");\r\n",
    "multimedia"
   ]
  },
  {
   "cell_type": "code",
   "execution_count": null,
   "metadata": {},
   "outputs": [],
   "source": [
    "using DwC_A.Extensions.MetaData;\r\n",
    "\r\n",
    "ExtendedTerms.RegisterTerms(papilionidae);\r\n",
    "var namespaceDictionary = ExtendedTerms.Extended as IDictionary<string, object>;\r\n",
    "foreach(var ns in ExtendedTerms.Namespaces)\r\n",
    "{\r\n",
    "    Console.WriteLine($\"Namespace: {ns.Key} => {ns.Value}\");\r\n",
    "    var termsDictionary = namespaceDictionary[ns.Value] as IDictionary<string, object>;\r\n",
    "    foreach(var term in termsDictionary)\r\n",
    "    {\r\n",
    "        var reference = $\"ExtendedTerms.Extended.{ns.Value}.{term.Key}\";\r\n",
    "        Console.WriteLine($\"\\tName: {term.Key}\\tTerm: {term.Value.ToString()}\\t{reference}\");\r\n",
    "    }\r\n",
    "\r\n",
    "}"
   ]
  },
  {
   "cell_type": "code",
   "execution_count": null,
   "metadata": {},
   "outputs": [],
   "source": [
    "\r\n",
    "using DwC_A.Terms;\r\n",
    "using Microsoft.DotNet.Interactive.Formatting;\r\n",
    "\r\n",
    "from o in occurrence.DataRows\r\n",
    "join m in multimedia.DataRows on o[0] equals m[0]  //Use index = 0 to join\r\n",
    "select new {\r\n",
    "\tspecies = o[Terms.scientificName],\r\n",
    "\timg = PocketViewTags.img[src: m[ExtendedTerms.Extended.dci.identifier], height: 200, alt: o[Terms.scientificName]]\r\n",
    "}"
   ]
  }
 ],
 "metadata": {
  "kernelspec": {
   "display_name": ".NET (C#)",
   "language": "C#",
   "metadata": {
    "interpreter": {
     "hash": "06a136a4bec6dd37550f67c12f0bc3840a5b46fcffdfeab5f0089641cb553d70"
    }
   },
   "name": ".net-csharp"
  },
  "language_info": {
   "name": "dotnet-interactive.csharp",
   "version": "3.8.8-final"
  },
  "orig_nbformat": 2
 },
 "nbformat": 4,
 "nbformat_minor": 2
}