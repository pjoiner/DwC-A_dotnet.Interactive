{
 "cells": [
  {
   "cell_type": "markdown",
   "metadata": {},
   "source": [
    "# Features\n",
    "\n",
    "This notebook will cover some of the features of the DwC-A_dotnet library.  For more documentation see the [DwC-A_dotnet Wiki](https://github.com/pjoiner/DwC-A_dotnet/wiki).\n",
    "\n",
    "First we download the libraries."
   ]
  },
  {
   "cell_type": "code",
   "execution_count": null,
   "metadata": {
    "dotnet_interactive": {
     "language": "csharp"
    },
    "vscode": {
     "languageId": "dotnet-interactive.csharp"
    }
   },
   "outputs": [],
   "source": [
    "#r \"nuget: DwC-A_dotnet, 0.7.0\"\n",
    "#r \"nuget: DwC-A_dotnet.Interactive, 0.1.10-Pre\""
   ]
  },
  {
   "cell_type": "markdown",
   "metadata": {},
   "source": [
    "## Configuration\n",
    "\n",
    "There are a few options for tuning the behavior and performance of the DwC-A_dotnet library that can be set through configuration.  This configuration can be injected into the ArchiveReader class using the DefaultFactory as follows.  For more information [see the Configuration documentation](https://github.com/pjoiner/DwC-A_dotnet/wiki/Configuration)\n",
    "\n",
    "Here we are extracting the data/Papilionidae.zip archive into the Papilionidae folder for work.\n",
    "\n",
    "The Papilionidae.zip archive is a dataset derived from a gbif query of butterflies of the family *Papilionidae*.  This archive contains occurrence and multimedia data which also includes image links.\n",
    "\n",
    "For more information on this dataset see [https://doi.org/10.15468/dl.zwsssf](https://doi.org/10.15468/dl.zwsssf)."
   ]
  },
  {
   "cell_type": "code",
   "execution_count": null,
   "metadata": {
    "dotnet_interactive": {
     "language": "csharp"
    },
    "vscode": {
     "languageId": "dotnet-interactive.csharp"
    }
   },
   "outputs": [],
   "source": [
    "using DwC_A;\n",
    "using DwC_A.Factories;\n",
    "using DwC_A.Config;\n",
    "\n",
    "var archivePath = \"./data/Papilionidae.zip\";\n",
    "var factory = new DefaultFactory(cfg => {\n",
    "    cfg.Add<ArchiveFolderConfiguration>(folderConfig => {\n",
    "        folderConfig.OutputPath = \"./Papilionidae\";\n",
    "    });\n",
    "});\n",
    "var archive = new ArchiveReader(archivePath, factory);\n",
    "$\"Archive extracted to path {archive.OutputPath}\".Display();\n",
    "archive.MetaData.Display();"
   ]
  },
  {
   "cell_type": "markdown",
   "metadata": {},
   "source": [
    "## Data Conversion\n",
    "\n",
    "Several extensions are available to convert values from data fields from string to any type that has a TypeConverter.  Here we are converting longitude and latitude to double values for further analysis.  Also, for delimited fields we can use the GetListOf or TryGetListOf extensions to return a list of strings in that field.  For more information on data conversion [see the wiki](https://github.com/pjoiner/DwC-A_dotnet/wiki/Type-Conversion)."
   ]
  },
  {
   "cell_type": "code",
   "execution_count": null,
   "metadata": {
    "dotnet_interactive": {
     "language": "csharp"
    },
    "vscode": {
     "languageId": "dotnet-interactive.csharp"
    }
   },
   "outputs": [],
   "source": [
    "using DwC_A.Terms;\n",
    "using DwC_A.Extensions;\n",
    "\n",
    "var occurrence = archive.CoreFile;\n",
    "var gbifIDTerm = \"http://rs.gbif.org/terms/1.0/gbifID\";\n",
    "var gbifIssue = \"http://rs.gbif.org/terms/1.0/issue\";\n",
    "\n",
    "occurrence.DataRows.Take(10)\n",
    "    .Where(o => o[gbifIssue] is not null)\n",
    "    .Select(o => new {\n",
    "        gbifId = o[gbifIDTerm],\n",
    "        species = o[Terms.scientificName],\n",
    "        latitude = o.Convert<double>(Terms.decimalLatitude),\n",
    "        longitude = o.Convert<double>(Terms.decimalLongitude),\n",
    "        date = o.Convert<DateTime>(Terms.eventDate),\n",
    "        issues = o.GetListOf(gbifIssue)\n",
    "    })"
   ]
  },
  {
   "cell_type": "markdown",
   "metadata": {},
   "source": [
    "## Async FileReaders\n",
    "\n",
    "Files can be read asynchronously using the async FileReaders returned by the GetAsyncCoreFile and Extensions.GetAsyncFileReaderXXX methods of the ArchiveReader.  Use ToArrayAsync() as shown below to use LinQ queries.  For more information on [asynchronous FileReader see the wiki](https://github.com/pjoiner/DwC-A_dotnet/wiki/Using-the-AsyncFileReaders)."
   ]
  },
  {
   "cell_type": "code",
   "execution_count": null,
   "metadata": {
    "dotnet_interactive": {
     "language": "csharp"
    },
    "vscode": {
     "languageId": "dotnet-interactive.csharp"
    }
   },
   "outputs": [],
   "source": [
    "var occurrenceAsync = archive.GetAsyncCoreFile();\n",
    "await occurrenceAsync.GetDataRowsAsync()\n",
    "    .Take(10)\n",
    "    .Where(o => o[gbifIssue] is not null)\n",
    "    .Select(o => new {\n",
    "        gbifId = o[gbifIDTerm],\n",
    "        species = o[Terms.scientificName],\n",
    "        latitude = o.Convert<double>(Terms.decimalLatitude),\n",
    "        longitude = o.Convert<double>(Terms.decimalLongitude),\n",
    "        date = o.Convert<DateTime>(Terms.eventDate),\n",
    "        issues = o.GetListOf(gbifIssue)\n",
    "    }).ToArrayAsync()"
   ]
  }
 ],
 "metadata": {
  "kernelspec": {
   "display_name": ".NET (C#)",
   "language": "C#",
   "name": ".net-csharp"
  },
  "language_info": {
   "file_extension": ".cs",
   "mimetype": "text/x-csharp",
   "name": "C#",
   "pygments_lexer": "csharp",
   "version": "9.0"
  },
  "orig_nbformat": 4
 },
 "nbformat": 4,
 "nbformat_minor": 2
}
