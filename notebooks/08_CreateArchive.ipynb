{
 "cells": [
  {
   "cell_type": "markdown",
   "metadata": {},
   "source": [
    "# Create Archive\n",
    "\n",
    "This notebook demonstrates creating an archive from existing data.  The source data comes from some sample observations on iNaturalist that is stored in the json file [./data/observations.json](./data/observations.json).\n",
    "\n",
    "We will create an occurrence.txt file and multimedia.txt extension file with links to images and sound recordings.\n",
    "\n",
    "To start with import the required libraries."
   ]
  },
  {
   "cell_type": "code",
   "execution_count": null,
   "metadata": {
    "dotnet_interactive": {
     "language": "csharp"
    },
    "vscode": {
     "languageId": "polyglot-notebook"
    }
   },
   "outputs": [],
   "source": [
    "#r \"nuget:DwC-A_dotnet, 0.8.0\"\n",
    "#r \"nuget:DwC-A_dotnet.Interactive, 0.1.11-Pre\""
   ]
  },
  {
   "cell_type": "markdown",
   "metadata": {},
   "source": [
    "### Define Field MetaData\n",
    "\n",
    "First we'll define the field metadata for the core file, occurrence.txt, and add terms for each of the columns in the file.  Use the `#!terms` magic command to view a list of the default [Darwin Core terms](https://dwc.tdwg.org/terms/).\n",
    "\n",
    "* Use `AutomaticallyIndex` to automatically number the terms in the order added.\n",
    "* For non-indexed terms, such as, default values define them before the call to `AutomaticallyIndex`.\n",
    "* The last term `otherCatalogNumbers` is a list of additional catalog numbers delimited with the `|` character."
   ]
  },
  {
   "cell_type": "code",
   "execution_count": null,
   "metadata": {
    "dotnet_interactive": {
     "language": "csharp"
    },
    "vscode": {
     "languageId": "polyglot-notebook"
    }
   },
   "outputs": [],
   "source": [
    "using DwC_A;\n",
    "using DwC_A.Builders;\n",
    "using DwC_A.Meta;\n",
    "using DwC_A.Terms;\n",
    "\n",
    "var fieldMetaDataBuilder = FieldsMetaDataBuilder.Fields()\n",
    "    .AddField(f => f.Term(Terms.geodeticDatum).Default(\"WGS84\"))\n",
    "    .AutomaticallyIndex()\n",
    "    .AddField(f => f.Term(\"id\"))\n",
    "    .AddField(f => f.Term(Terms.dateIdentified))\n",
    "    .AddField(f => f.Term(Terms.recordedBy))\n",
    "    .AddField(f => f.Term(Terms.decimalLatitude))\n",
    "    .AddField(f => f.Term(Terms.decimalLongitude))\n",
    "    .AddField(f => f.Term(Terms.license))\n",
    "    .AddField(f => f.Term(Terms.kingdom))\n",
    "    .AddField(f => f.Term(Terms.phylum))\n",
    "    .AddField(f => f.Term(Terms.@class))\n",
    "    .AddField(f => f.Term(Terms.order))\n",
    "    .AddField(f => f.Term(Terms.genus))\n",
    "    .AddField(f => f.Term(Terms.specificEpithet))\n",
    "    .AddField(f => f.Term(Terms.scientificName))\n",
    "    .AddField(f => f.Term(Terms.otherCatalogNumbers).Delimiter(\"|\"));"
   ]
  },
  {
   "cell_type": "markdown",
   "metadata": {},
   "source": [
    "Terms that are not included in the [Darwin Core quick reference](https://dwc.tdwg.org/terms/), such as the identifier below can be added manually."
   ]
  },
  {
   "cell_type": "code",
   "execution_count": null,
   "metadata": {
    "dotnet_interactive": {
     "language": "csharp"
    },
    "vscode": {
     "languageId": "polyglot-notebook"
    }
   },
   "outputs": [],
   "source": [
    "var identifier = \"http://purl.org/dc/terms/identifier\";\n",
    "\n",
    "var multiMediaMetaDataBuilder = FieldsMetaDataBuilder.Fields()\n",
    "    .AutomaticallyIndex()\n",
    "    .AddField(f => f.Term(\"id\"))\n",
    "    .AddField(f => f.Term(Terms.type))\n",
    "    .AddField(f => f.Term(identifier))\n",
    "    .AddField(f => f.Term(Terms.references));"
   ]
  },
  {
   "cell_type": "markdown",
   "metadata": {},
   "source": [
    "### Define File MetaData\n",
    "\n",
    "The next step is to define file metadata.  This includes the name, delimiter and fields etc.  Unless specified as in the occurrence.txt below the default format is as follows.\n",
    "\n",
    "* FieldsTerminatedBy (delimiter) - comma.\n",
    "* FieldsEnclosedBy (quote character) - \".\n",
    "* LinesTerminatedBy (newlines) - \\n.\n",
    "* IgnoreHeaderLines - 0.\n",
    "* Encoding - UTF8.\n"
   ]
  },
  {
   "cell_type": "code",
   "execution_count": null,
   "metadata": {
    "dotnet_interactive": {
     "language": "csharp"
    },
    "vscode": {
     "languageId": "polyglot-notebook"
    }
   },
   "outputs": [],
   "source": [
    "var fileMetaData = CoreFileMetaDataBuilder.File(\"occurrence.txt\")\n",
    "    .FieldsEnclosedBy(\"\\\"\")\n",
    "    .FieldsTerminatedBy(\"\\\\t\")\n",
    "    .LinesTerminatedBy(\"\\\\n\")\n",
    "    .IgnoreHeaderLines(1)\n",
    "    .Encoding(Encoding.UTF8)\n",
    "    .Index(0)\n",
    "    .RowType(RowTypes.Occurrence)\n",
    "    .AddFields(fieldMetaDataBuilder);\n",
    "\n",
    "var multiMediaFileMetaData = ExtensionFileMetaDataBuilder.File(\"multimedia.txt\")\n",
    "    .CoreIndex(0)\n",
    "    .RowType(RowTypes.Identification)\n",
    "    .AddFields(multiMediaMetaDataBuilder);"
   ]
  },
  {
   "cell_type": "markdown",
   "metadata": {},
   "source": [
    "Data is read from the file observations.json file for this example but this could be a database connection or other data source."
   ]
  },
  {
   "cell_type": "code",
   "execution_count": null,
   "metadata": {
    "dotnet_interactive": {
     "language": "csharp"
    },
    "vscode": {
     "languageId": "polyglot-notebook"
    }
   },
   "outputs": [],
   "source": [
    "using System.Text.Json;\n",
    "using System.IO;\n",
    "var json = \"./data/observations.json\";\n",
    "var doc = JsonDocument.Parse(File.ReadAllText(json));"
   ]
  },
  {
   "cell_type": "markdown",
   "metadata": {},
   "source": [
    "### Write Data Files\n",
    "\n",
    "The next step is to write the data files that will be included in the archive.  In this example we are creating a BuilderContext to view the completed files.  If the BuilderContext is not specified then a temp directory is used.\n",
    "\n",
    "To build the rows for the file create a delegate that accepts a RowBuilder and returns the built row.  Fields should be added in the order that they were defined."
   ]
  },
  {
   "cell_type": "code",
   "execution_count": null,
   "metadata": {
    "dotnet_interactive": {
     "language": "csharp"
    },
    "vscode": {
     "languageId": "polyglot-notebook"
    }
   },
   "outputs": [],
   "source": [
    "//Add a builder context so files are written under a subdirectory here\n",
    "var context = new BuilderContext(\"./MyObservations\", false);\n",
    "\n",
    "var fileBuilder = FileBuilder.MetaData(fileMetaData)\n",
    "    .Context(context)\n",
    "    .BuildRows(rowBuilder => BuildCoreRows(rowBuilder));\n",
    "\n",
    "IEnumerable<string> BuildCoreRows(RowBuilder rowBuilder)\n",
    "{\n",
    "    foreach(var node in doc.RootElement.EnumerateArray())\n",
    "    {\n",
    "        yield return rowBuilder.AddField(node.GetProperty(\"id\"))\n",
    "            .AddField(node.GetProperty(\"time_observed_at\"))\n",
    "            .AddField(node.GetProperty(\"user_name\"))\n",
    "            .AddField(node.GetProperty(\"latitude\"))\n",
    "            .AddField(node.GetProperty(\"longitude\"))\n",
    "            .AddField(node.GetProperty(\"license\"))\n",
    "            .AddField(node.GetProperty(\"taxon_kingdom_name\"))\n",
    "            .AddField(node.GetProperty(\"taxon_phylum_name\"))\n",
    "            .AddField(node.GetProperty(\"taxon_class_name\"))\n",
    "            .AddField(node.GetProperty(\"taxon_order_name\"))\n",
    "            .AddField(node.GetProperty(\"taxon_genus_name\"))\n",
    "            .AddField(node.GetProperty(\"taxon_species_name\"))\n",
    "            .AddField(node.GetProperty(\"scientific_name\"))\n",
    "            .AddField(node.GetProperty(\"catalogNumber\"))\n",
    "            .Build();\n",
    "    }\n",
    "}"
   ]
  },
  {
   "cell_type": "markdown",
   "metadata": {},
   "source": [
    "Here we are doing the same for the multimedia.txt file."
   ]
  },
  {
   "cell_type": "code",
   "execution_count": null,
   "metadata": {
    "dotnet_interactive": {
     "language": "csharp"
    },
    "vscode": {
     "languageId": "polyglot-notebook"
    }
   },
   "outputs": [],
   "source": [
    "var multiMediaFileBuilder = FileBuilder.MetaData(multiMediaFileMetaData)\n",
    "    .Context(context)\n",
    "    .BuildRows(rowBuilder => BuildMultiMediaRows(rowBuilder));\n",
    "\n",
    "public static string NullIfEmpty(this string s)\n",
    "{\n",
    "    return string.IsNullOrEmpty(s) ? null : s;\n",
    "}\n",
    "\n",
    "IEnumerable<string> BuildMultiMediaRows(RowBuilder rowBuilder)\n",
    "{\n",
    "    var mediaRows = doc.RootElement\n",
    "        .EnumerateArray()\n",
    "        .Select(n => new {\n",
    "            id = n.GetProperty(\"id\").ToString(),\n",
    "            image = n.GetProperty(\"image_url\").ToString(),\n",
    "            sound = n.GetProperty(\"sound_url\").ToString(),\n",
    "            url = n.GetProperty(\"url\").ToString()\n",
    "        });\n",
    "\n",
    "    foreach(var row in mediaRows)\n",
    "    {\n",
    "        var mediaUrl = row.image.NullIfEmpty() ?? row.sound;\n",
    "        var type = row.image == \"\" ? \"SoundRecording\" : \"StillImage\";\n",
    "        yield return rowBuilder.AddField(row.id)\n",
    "            .AddField(type)\n",
    "            .AddField(mediaUrl)\n",
    "            .AddField(row.url)\n",
    "            .Build();\n",
    "    }\n",
    "}"
   ]
  },
  {
   "cell_type": "markdown",
   "metadata": {},
   "source": [
    "### Write Archive\n",
    "\n",
    "Finally, we write the archive using the ArchiveWriter.  Additional files, such as, license or eml.xml may be added here using the `AddExistingFile` method."
   ]
  },
  {
   "cell_type": "code",
   "execution_count": null,
   "metadata": {
    "dotnet_interactive": {
     "language": "csharp"
    },
    "vscode": {
     "languageId": "polyglot-notebook"
    }
   },
   "outputs": [],
   "source": [
    "using DwC_A.Writers;\n",
    "\n",
    "ArchiveWriter.CoreFile(fileBuilder, fileMetaData)\n",
    "    .AddExtensionFile(multiMediaFileBuilder, multiMediaFileMetaData)\n",
    "    .AddExtraFile(\"./data/notes.txt\")\n",
    "    .Context(context)\n",
    "    .Build(\"MyObservations.zip\");"
   ]
  },
  {
   "cell_type": "markdown",
   "metadata": {},
   "source": [
    "The above steps should have created an archive named MyObservations.zip.  To check our work we can open the archive and view the data and metadata."
   ]
  },
  {
   "cell_type": "code",
   "execution_count": null,
   "metadata": {
    "dotnet_interactive": {
     "language": "csharp"
    },
    "vscode": {
     "languageId": "polyglot-notebook"
    }
   },
   "outputs": [],
   "source": [
    "var archive = new ArchiveReader(\"./MyObservations.zip\");\n",
    "archive.Display();\n",
    "archive.CoreFile.Display();\n",
    "archive.CoreFile.DataRows.Display();\n",
    "archive.Extensions.GetFileReaderByFileName(\"multimedia.txt\").Display();\n",
    "\n",
    "var multimedia = archive.Extensions.GetFileReaderByFileName(\"multimedia.txt\");\n",
    "multimedia.DataRows.Display();\n"
   ]
  }
 ],
 "metadata": {
  "kernelspec": {
   "display_name": ".NET (C#)",
   "language": "C#",
   "name": ".net-csharp"
  },
  "language_info": {
   "file_extension": ".cs",
   "mimetype": "text/x-csharp",
   "name": "C#",
   "pygments_lexer": "csharp",
   "version": "9.0"
  },
  "orig_nbformat": 4
 },
 "nbformat": 4,
 "nbformat_minor": 2
}
