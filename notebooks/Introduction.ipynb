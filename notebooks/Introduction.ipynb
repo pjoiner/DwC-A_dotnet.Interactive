{
 "cells": [
  {
   "cell_type": "markdown",
   "metadata": {},
   "source": [
    "# Using DwC-A_dotnet.Interactive\r\n",
    "\r\n",
    "This notebook describes how to use DwC-A_dotnet and DwC-A_dotnet.Interactive to interactively query Darwin Core Archive files and plot your results.\r\n",
    "\r\n",
    "Information on the dotnet libraries used here may be found at \r\n",
    "\r\n",
    "|Library|Link|\r\n",
    "|---|---|\r\n",
    "|DwC-A_dotnet|https://github.com/pjoiner/DwC-A_dotnet|\r\n",
    "|DwC-A_dotnet.Interactive|https://github.com/pjoiner/DwC-A_dotnet.Interactive|\r\n"
   ]
  },
  {
   "cell_type": "markdown",
   "metadata": {},
   "source": [
    "## Installation\r\n",
    "\r\n",
    "Use the #r magic command to install the libraries from NuGet."
   ]
  },
  {
   "cell_type": "code",
   "execution_count": 3,
   "metadata": {
    "dotnet_interactive": {
     "language": "csharp"
    }
   },
   "outputs": [
    {
     "data": {
      "text/plain": "Installed package DwC-A_dotnet.Interactive version 0.1.1-pre"
     }
    },
    {
     "data": {
      "text/plain": "Installed package DwC-A_dotnet version 0.5.1"
     }
    },
    {
     "data": {
      "text/plain": "Loaded DwC_A_dotnet.Interactive.DwCKernelExtension"
     }
    }
   ],
   "source": [
    "#r \"nuget:DwC-A_dotnet,0.5.1\"\r\n",
    "#r \"nuget:DwC-A_dotnet.Interactive,0.1.1-Pre\""
   ]
  },
  {
   "cell_type": "markdown",
   "metadata": {},
   "source": [
    "## Open An Archive\r\n",
    "Use the `ArchiveReader` class to open the archive and provide the path to your archive.  It is recommended that the archive be unzipped to a directory first to reduce the overhead of creating a temporary folder to unzip the archive.  If you use the zip file remember to dispose of the temporary working directory at the end of you session by calling `archive.Dispose();`"
   ]
  },
  {
   "cell_type": "code",
   "execution_count": 4,
   "metadata": {
    "dotnet_interactive": {
     "language": "csharp"
    }
   },
   "outputs": [],
   "source": [
    "using DwC_A;\r\n",
    "\r\n",
    "var archive = new ArchiveReader(@\"./data/dwca-rooftop-v1.4\");"
   ]
  },
  {
   "cell_type": "markdown",
   "metadata": {},
   "source": [
    "## Archive MetaData\r\n",
    "The interactive extensions library (`DwC-A_dotnet.Interactive`) registers kernel extensions to display various archive metadata by simply entering MetaData at the end of a cell.  The same can be done for an `IFileReader` instance to get a list of the term metadata."
   ]
  },
  {
   "cell_type": "code",
   "execution_count": null,
   "metadata": {
    "dotnet_interactive": {
     "language": "csharp"
    }
   },
   "outputs": [
    {
     "data": {
      "text/html": "<table><thead><tr><td>File Type</td><td>File Name</td><td>Row Type</td></tr></thead><tbody><tr><td><b>CoreFile:</b></td><td>event.txt</td><td>http://rs.tdwg.org/dwc/terms/Event</td></tr><tr><td><b>Extension:</b></td><td>occurrence.txt</td><td>http://rs.tdwg.org/dwc/terms/Occurrence</td></tr></tbody></table>"
     }
    }
   ],
   "source": [
    "archive.MetaData"
   ]
  },
  {
   "cell_type": "code",
   "execution_count": null,
   "metadata": {
    "dotnet_interactive": {
     "language": "csharp"
    }
   },
   "outputs": [
    {
     "data": {
      "text/html": "<b>FileName</b>: event.txt<br/><b>RowType</b>: http://rs.tdwg.org/dwc/terms/Event<table><thead><tr><td>Index</td><td>Name</td><td>Term</td><td>Vocabulary</td></tr></thead><tbody><tr><td><div class=\"dni-plaintext\">0</div></td><td>id</td><td>id</td><td><div class=\"dni-plaintext\">&lt;null&gt;</div></td></tr><tr><td><div class=\"dni-plaintext\">1</div></td><td>type</td><td>http://purl.org/dc/terms/type</td><td><div class=\"dni-plaintext\">&lt;null&gt;</div></td></tr><tr><td><div class=\"dni-plaintext\">2</div></td><td>license</td><td>http://purl.org/dc/terms/license</td><td><div class=\"dni-plaintext\">&lt;null&gt;</div></td></tr><tr><td><div class=\"dni-plaintext\">3</div></td><td>rightsHolder</td><td>http://purl.org/dc/terms/rightsHolder</td><td><div class=\"dni-plaintext\">&lt;null&gt;</div></td></tr><tr><td><div class=\"dni-plaintext\">4</div></td><td>ownerInstitutionCode</td><td>http://rs.tdwg.org/dwc/terms/ownerInstitutionCode</td><td><div class=\"dni-plaintext\">&lt;null&gt;</div></td></tr><tr><td><div class=\"dni-plaintext\">5</div></td><td>eventID</td><td>http://rs.tdwg.org/dwc/terms/eventID</td><td><div class=\"dni-plaintext\">&lt;null&gt;</div></td></tr><tr><td><div class=\"dni-plaintext\">6</div></td><td>samplingProtocol</td><td>http://rs.tdwg.org/dwc/terms/samplingProtocol</td><td><div class=\"dni-plaintext\">&lt;null&gt;</div></td></tr><tr><td><div class=\"dni-plaintext\">7</div></td><td>sampleSizeValue</td><td>http://rs.tdwg.org/dwc/terms/sampleSizeValue</td><td><div class=\"dni-plaintext\">&lt;null&gt;</div></td></tr><tr><td><div class=\"dni-plaintext\">8</div></td><td>sampleSizeUnit</td><td>http://rs.tdwg.org/dwc/terms/sampleSizeUnit</td><td><div class=\"dni-plaintext\">&lt;null&gt;</div></td></tr><tr><td><div class=\"dni-plaintext\">9</div></td><td>samplingEffort</td><td>http://rs.tdwg.org/dwc/terms/samplingEffort</td><td><div class=\"dni-plaintext\">&lt;null&gt;</div></td></tr><tr><td><div class=\"dni-plaintext\">10</div></td><td>eventDate</td><td>http://rs.tdwg.org/dwc/terms/eventDate</td><td><div class=\"dni-plaintext\">&lt;null&gt;</div></td></tr><tr><td><div class=\"dni-plaintext\">11</div></td><td>year</td><td>http://rs.tdwg.org/dwc/terms/year</td><td><div class=\"dni-plaintext\">&lt;null&gt;</div></td></tr><tr><td><div class=\"dni-plaintext\">12</div></td><td>month</td><td>http://rs.tdwg.org/dwc/terms/month</td><td><div class=\"dni-plaintext\">&lt;null&gt;</div></td></tr><tr><td><div class=\"dni-plaintext\">13</div></td><td>day</td><td>http://rs.tdwg.org/dwc/terms/day</td><td><div class=\"dni-plaintext\">&lt;null&gt;</div></td></tr><tr><td><div class=\"dni-plaintext\">14</div></td><td>eventRemarks</td><td>http://rs.tdwg.org/dwc/terms/eventRemarks</td><td><div class=\"dni-plaintext\">&lt;null&gt;</div></td></tr><tr><td><div class=\"dni-plaintext\">15</div></td><td>country</td><td>http://rs.tdwg.org/dwc/terms/country</td><td><div class=\"dni-plaintext\">&lt;null&gt;</div></td></tr><tr><td><div class=\"dni-plaintext\">16</div></td><td>countryCode</td><td>http://rs.tdwg.org/dwc/terms/countryCode</td><td><div class=\"dni-plaintext\">&lt;null&gt;</div></td></tr><tr><td><div class=\"dni-plaintext\">17</div></td><td>locality</td><td>http://rs.tdwg.org/dwc/terms/locality</td><td><div class=\"dni-plaintext\">&lt;null&gt;</div></td></tr><tr><td><div class=\"dni-plaintext\">18</div></td><td>decimalLatitude</td><td>http://rs.tdwg.org/dwc/terms/decimalLatitude</td><td><div class=\"dni-plaintext\">&lt;null&gt;</div></td></tr><tr><td><div class=\"dni-plaintext\">19</div></td><td>decimalLongitude</td><td>http://rs.tdwg.org/dwc/terms/decimalLongitude</td><td><div class=\"dni-plaintext\">&lt;null&gt;</div></td></tr><tr><td><div class=\"dni-plaintext\">20</div></td><td>geodeticDatum</td><td>http://rs.tdwg.org/dwc/terms/geodeticDatum</td><td><div class=\"dni-plaintext\">&lt;null&gt;</div></td></tr></tbody></table>"
     }
    }
   ],
   "source": [
    "archive.CoreFile"
   ]
  },
  {
   "cell_type": "code",
   "execution_count": null,
   "metadata": {
    "dotnet_interactive": {
     "language": "csharp"
    }
   },
   "outputs": [
    {
     "data": {
      "text/html": "<b>FileName</b>: occurrence.txt<br/><b>RowType</b>: http://rs.tdwg.org/dwc/terms/Occurrence<table><thead><tr><td>Index</td><td>Name</td><td>Term</td><td>Vocabulary</td></tr></thead><tbody><tr><td><div class=\"dni-plaintext\">0</div></td><td>id</td><td>id</td><td><div class=\"dni-plaintext\">&lt;null&gt;</div></td></tr><tr><td><div class=\"dni-plaintext\">1</div></td><td>type</td><td>http://purl.org/dc/terms/type</td><td><div class=\"dni-plaintext\">&lt;null&gt;</div></td></tr><tr><td><div class=\"dni-plaintext\">2</div></td><td>license</td><td>http://purl.org/dc/terms/license</td><td><div class=\"dni-plaintext\">&lt;null&gt;</div></td></tr><tr><td><div class=\"dni-plaintext\">3</div></td><td>rightsHolder</td><td>http://purl.org/dc/terms/rightsHolder</td><td><div class=\"dni-plaintext\">&lt;null&gt;</div></td></tr><tr><td><div class=\"dni-plaintext\">4</div></td><td>institutionCode</td><td>http://rs.tdwg.org/dwc/terms/institutionCode</td><td><div class=\"dni-plaintext\">&lt;null&gt;</div></td></tr><tr><td><div class=\"dni-plaintext\">5</div></td><td>ownerInstitutionCode</td><td>http://rs.tdwg.org/dwc/terms/ownerInstitutionCode</td><td><div class=\"dni-plaintext\">&lt;null&gt;</div></td></tr><tr><td><div class=\"dni-plaintext\">6</div></td><td>basisOfRecord</td><td>http://rs.tdwg.org/dwc/terms/basisOfRecord</td><td><div class=\"dni-plaintext\">&lt;null&gt;</div></td></tr><tr><td><div class=\"dni-plaintext\">7</div></td><td>occurrenceID</td><td>http://rs.tdwg.org/dwc/terms/occurrenceID</td><td><div class=\"dni-plaintext\">&lt;null&gt;</div></td></tr><tr><td><div class=\"dni-plaintext\">8</div></td><td>recordedBy</td><td>http://rs.tdwg.org/dwc/terms/recordedBy</td><td><div class=\"dni-plaintext\">&lt;null&gt;</div></td></tr><tr><td><div class=\"dni-plaintext\">9</div></td><td>individualCount</td><td>http://rs.tdwg.org/dwc/terms/individualCount</td><td><div class=\"dni-plaintext\">&lt;null&gt;</div></td></tr><tr><td><div class=\"dni-plaintext\">10</div></td><td>organismQuantity</td><td>http://rs.tdwg.org/dwc/terms/organismQuantity</td><td><div class=\"dni-plaintext\">&lt;null&gt;</div></td></tr><tr><td><div class=\"dni-plaintext\">11</div></td><td>organismQuantityType</td><td>http://rs.tdwg.org/dwc/terms/organismQuantityType</td><td><div class=\"dni-plaintext\">&lt;null&gt;</div></td></tr><tr><td><div class=\"dni-plaintext\">12</div></td><td>occurrenceStatus</td><td>http://rs.tdwg.org/dwc/terms/occurrenceStatus</td><td><div class=\"dni-plaintext\">&lt;null&gt;</div></td></tr><tr><td><div class=\"dni-plaintext\">13</div></td><td>previousIdentifications</td><td>http://rs.tdwg.org/dwc/terms/previousIdentifications</td><td><div class=\"dni-plaintext\">&lt;null&gt;</div></td></tr><tr><td><div class=\"dni-plaintext\">14</div></td><td>eventID</td><td>http://rs.tdwg.org/dwc/terms/eventID</td><td><div class=\"dni-plaintext\">&lt;null&gt;</div></td></tr><tr><td><div class=\"dni-plaintext\">15</div></td><td>samplingProtocol</td><td>http://rs.tdwg.org/dwc/terms/samplingProtocol</td><td><div class=\"dni-plaintext\">&lt;null&gt;</div></td></tr><tr><td><div class=\"dni-plaintext\">16</div></td><td>sampleSizeValue</td><td>http://rs.tdwg.org/dwc/terms/sampleSizeValue</td><td><div class=\"dni-plaintext\">&lt;null&gt;</div></td></tr><tr><td><div class=\"dni-plaintext\">17</div></td><td>sampleSizeUnit</td><td>http://rs.tdwg.org/dwc/terms/sampleSizeUnit</td><td><div class=\"dni-plaintext\">&lt;null&gt;</div></td></tr><tr><td><div class=\"dni-plaintext\">18</div></td><td>samplingEffort</td><td>http://rs.tdwg.org/dwc/terms/samplingEffort</td><td><div class=\"dni-plaintext\">&lt;null&gt;</div></td></tr><tr><td><div class=\"dni-plaintext\">19</div></td><td>eventDate</td><td>http://rs.tdwg.org/dwc/terms/eventDate</td><td><div class=\"dni-plaintext\">&lt;null&gt;</div></td></tr><tr><td><div class=\"dni-plaintext\">20</div></td><td>year</td><td>http://rs.tdwg.org/dwc/terms/year</td><td><div class=\"dni-plaintext\">&lt;null&gt;</div></td></tr><tr><td><div class=\"dni-plaintext\">21</div></td><td>month</td><td>http://rs.tdwg.org/dwc/terms/month</td><td><div class=\"dni-plaintext\">&lt;null&gt;</div></td></tr><tr><td><div class=\"dni-plaintext\">22</div></td><td>day</td><td>http://rs.tdwg.org/dwc/terms/day</td><td><div class=\"dni-plaintext\">&lt;null&gt;</div></td></tr><tr><td><div class=\"dni-plaintext\">23</div></td><td>eventRemarks</td><td>http://rs.tdwg.org/dwc/terms/eventRemarks</td><td><div class=\"dni-plaintext\">&lt;null&gt;</div></td></tr><tr><td><div class=\"dni-plaintext\">24</div></td><td>country</td><td>http://rs.tdwg.org/dwc/terms/country</td><td><div class=\"dni-plaintext\">&lt;null&gt;</div></td></tr><tr><td><div class=\"dni-plaintext\">25</div></td><td>countryCode</td><td>http://rs.tdwg.org/dwc/terms/countryCode</td><td><div class=\"dni-plaintext\">&lt;null&gt;</div></td></tr><tr><td><div class=\"dni-plaintext\">26</div></td><td>locality</td><td>http://rs.tdwg.org/dwc/terms/locality</td><td><div class=\"dni-plaintext\">&lt;null&gt;</div></td></tr><tr><td><div class=\"dni-plaintext\">27</div></td><td>decimalLatitude</td><td>http://rs.tdwg.org/dwc/terms/decimalLatitude</td><td><div class=\"dni-plaintext\">&lt;null&gt;</div></td></tr><tr><td><div class=\"dni-plaintext\">28</div></td><td>decimalLongitude</td><td>http://rs.tdwg.org/dwc/terms/decimalLongitude</td><td><div class=\"dni-plaintext\">&lt;null&gt;</div></td></tr><tr><td><div class=\"dni-plaintext\">29</div></td><td>geodeticDatum</td><td>http://rs.tdwg.org/dwc/terms/geodeticDatum</td><td><div class=\"dni-plaintext\">&lt;null&gt;</div></td></tr><tr><td><div class=\"dni-plaintext\">30</div></td><td>group</td><td>http://rs.tdwg.org/dwc/terms/group</td><td><div class=\"dni-plaintext\">&lt;null&gt;</div></td></tr><tr><td><div class=\"dni-plaintext\">31</div></td><td>identifiedBy</td><td>http://rs.tdwg.org/dwc/terms/identifiedBy</td><td><div class=\"dni-plaintext\">&lt;null&gt;</div></td></tr><tr><td><div class=\"dni-plaintext\">32</div></td><td>identificationRemarks</td><td>http://rs.tdwg.org/dwc/terms/identificationRemarks</td><td><div class=\"dni-plaintext\">&lt;null&gt;</div></td></tr><tr><td><div class=\"dni-plaintext\">33</div></td><td>taxonID</td><td>http://rs.tdwg.org/dwc/terms/taxonID</td><td><div class=\"dni-plaintext\">&lt;null&gt;</div></td></tr><tr><td><div class=\"dni-plaintext\">34</div></td><td>scientificName</td><td>http://rs.tdwg.org/dwc/terms/scientificName</td><td><div class=\"dni-plaintext\">&lt;null&gt;</div></td></tr><tr><td><div class=\"dni-plaintext\">35</div></td><td>kingdom</td><td>http://rs.tdwg.org/dwc/terms/kingdom</td><td><div class=\"dni-plaintext\">&lt;null&gt;</div></td></tr><tr><td><div class=\"dni-plaintext\">36</div></td><td>phylum</td><td>http://rs.tdwg.org/dwc/terms/phylum</td><td><div class=\"dni-plaintext\">&lt;null&gt;</div></td></tr><tr><td><div class=\"dni-plaintext\">37</div></td><td>class</td><td>http://rs.tdwg.org/dwc/terms/class</td><td><div class=\"dni-plaintext\">&lt;null&gt;</div></td></tr><tr><td><div class=\"dni-plaintext\">38</div></td><td>order</td><td>http://rs.tdwg.org/dwc/terms/order</td><td><div class=\"dni-plaintext\">&lt;null&gt;</div></td></tr><tr><td><div class=\"dni-plaintext\">39</div></td><td>family</td><td>http://rs.tdwg.org/dwc/terms/family</td><td><div class=\"dni-plaintext\">&lt;null&gt;</div></td></tr><tr><td><div class=\"dni-plaintext\">40</div></td><td>genus</td><td>http://rs.tdwg.org/dwc/terms/genus</td><td><div class=\"dni-plaintext\">&lt;null&gt;</div></td></tr><tr><td><div class=\"dni-plaintext\">41</div></td><td>taxonRank</td><td>http://rs.tdwg.org/dwc/terms/taxonRank</td><td><div class=\"dni-plaintext\">&lt;null&gt;</div></td></tr><tr><td><div class=\"dni-plaintext\">42</div></td><td>scientificNameAuthorship</td><td>http://rs.tdwg.org/dwc/terms/scientificNameAuthorship</td><td><div class=\"dni-plaintext\">&lt;null&gt;</div></td></tr><tr><td><div class=\"dni-plaintext\">43</div></td><td>taxonomicStatus</td><td>http://rs.tdwg.org/dwc/terms/taxonomicStatus</td><td><div class=\"dni-plaintext\">&lt;null&gt;</div></td></tr></tbody></table>"
     }
    }
   ],
   "source": [
    "archive.Extensions.GetFileReaderByFileName(\"occurrence.txt\")"
   ]
  },
  {
   "cell_type": "markdown",
   "metadata": {},
   "source": [
    "## ToDynamic Extension Methods\r\n",
    "A row may be converted to a `dynamic` object using the `ToDynamic()` function from the `DwC_A.Interactive.Extensions` namespace.  Each field will be accessable by using the short name for the Term for a row.  The following cell displays a subset of event data from the first 5 rows of the dataset."
   ]
  },
  {
   "cell_type": "code",
   "execution_count": null,
   "metadata": {
    "dotnet_interactive": {
     "language": "csharp"
    }
   },
   "outputs": [
    {
     "data": {
      "text/html": "<table><thead><tr><th>eventID</th><th>eventDate</th><th>sampleSizeValue</th></tr></thead><tbody><tr><td><div class=\"dni-plaintext\">urn:zmuc:2006-07-14/2006-07-20</div></td><td><div class=\"dni-plaintext\">2006-07-14/2006-07-20</div></td><td><div class=\"dni-plaintext\">6</div></td></tr></tbody></table>"
     }
    },
    {
     "data": {
      "text/html": "<table><thead><tr><th>eventID</th><th>eventDate</th><th>sampleSizeValue</th></tr></thead><tbody><tr><td><div class=\"dni-plaintext\">urn:zmuc:1993-05-24/1993-05-31</div></td><td><div class=\"dni-plaintext\">1993-05-24/1993-05-31</div></td><td><div class=\"dni-plaintext\">7</div></td></tr></tbody></table>"
     }
    },
    {
     "data": {
      "text/html": "<table><thead><tr><th>eventID</th><th>eventDate</th><th>sampleSizeValue</th></tr></thead><tbody><tr><td><div class=\"dni-plaintext\">urn:zmuc:1997-07-21/1997-07-21</div></td><td><div class=\"dni-plaintext\">1997-07-21/1997-07-21</div></td><td><div class=\"dni-plaintext\">0</div></td></tr></tbody></table>"
     }
    },
    {
     "data": {
      "text/html": "<table><thead><tr><th>eventID</th><th>eventDate</th><th>sampleSizeValue</th></tr></thead><tbody><tr><td><div class=\"dni-plaintext\">urn:zmuc:1998-05-27/1998-06-01</div></td><td><div class=\"dni-plaintext\">1998-05-27/1998-06-01</div></td><td><div class=\"dni-plaintext\">5</div></td></tr></tbody></table>"
     }
    },
    {
     "data": {
      "text/html": "<table><thead><tr><th>eventID</th><th>eventDate</th><th>sampleSizeValue</th></tr></thead><tbody><tr><td><div class=\"dni-plaintext\">urn:zmuc:1998-06-19/1998-06-21</div></td><td><div class=\"dni-plaintext\">1998-06-19/1998-06-21</div></td><td><div class=\"dni-plaintext\">2</div></td></tr></tbody></table>"
     }
    }
   ],
   "source": [
    "using DwC_A_dotnet.Interactive.Extensions;\r\n",
    "\r\n",
    "//This will return an IEnumerable<dynamic>\r\n",
    "var dynRows = archive.CoreFile.ToDynamic();\r\n",
    "foreach(var dynRow in dynRows.Take(5))\r\n",
    "{\r\n",
    "    var event1 = new \r\n",
    "    {\r\n",
    "        dynRow.eventID,\r\n",
    "        dynRow.eventDate,\r\n",
    "        dynRow.sampleSizeValue\r\n",
    "    };\r\n",
    "    display(event1);\r\n",
    "}"
   ]
  },
  {
   "cell_type": "markdown",
   "metadata": {},
   "source": [
    "## Query Data Using LinQ\r\n",
    "\r\n",
    "The following cell uses LinQ to gather a list of total individual counts of each genus for a specific sampling event.  Change the number in the `.Skip(1)` line to see totals calculated for other events. "
   ]
  },
  {
   "cell_type": "code",
   "execution_count": null,
   "metadata": {
    "dotnet_interactive": {
     "language": "csharp"
    }
   },
   "outputs": [
    {
     "data": {
      "text/plain": "urn:zmuc:1993-05-24/1993-05-31"
     }
    },
    {
     "data": {
      "text/html": "<table><thead><tr><th><i>index</i></th><th>genus</th><th>count</th></tr></thead><tbody><tr><td>0</td><td><div class=\"dni-plaintext\">Abrostola</div></td><td><div class=\"dni-plaintext\">1</div></td></tr><tr><td>1</td><td><div class=\"dni-plaintext\">Acronicta</div></td><td><div class=\"dni-plaintext\">3</div></td></tr><tr><td>2</td><td><div class=\"dni-plaintext\">Agrotis</div></td><td><div class=\"dni-plaintext\">266</div></td></tr><tr><td>3</td><td><div class=\"dni-plaintext\">Apamea</div></td><td><div class=\"dni-plaintext\">1</div></td></tr><tr><td>4</td><td><div class=\"dni-plaintext\">Aproaerema</div></td><td><div class=\"dni-plaintext\">1</div></td></tr><tr><td>5</td><td><div class=\"dni-plaintext\">Argyresthia</div></td><td><div class=\"dni-plaintext\">1</div></td></tr><tr><td>6</td><td><div class=\"dni-plaintext\">Autographa</div></td><td><div class=\"dni-plaintext\">1</div></td></tr><tr><td>7</td><td><div class=\"dni-plaintext\">Biston</div></td><td><div class=\"dni-plaintext\">3</div></td></tr><tr><td>8</td><td><div class=\"dni-plaintext\">Caloptilia</div></td><td><div class=\"dni-plaintext\">3</div></td></tr><tr><td>9</td><td><div class=\"dni-plaintext\">Celypha</div></td><td><div class=\"dni-plaintext\">1</div></td></tr><tr><td>10</td><td><div class=\"dni-plaintext\">Charanycha</div></td><td><div class=\"dni-plaintext\">15</div></td></tr><tr><td>11</td><td><div class=\"dni-plaintext\">Chrysoteuchia</div></td><td><div class=\"dni-plaintext\">1</div></td></tr><tr><td>12</td><td><div class=\"dni-plaintext\">Cnephasia</div></td><td><div class=\"dni-plaintext\">2</div></td></tr><tr><td>13</td><td><div class=\"dni-plaintext\">Coleophora</div></td><td><div class=\"dni-plaintext\">2</div></td></tr><tr><td>14</td><td><div class=\"dni-plaintext\">Crambus</div></td><td><div class=\"dni-plaintext\">1</div></td></tr><tr><td>15</td><td><div class=\"dni-plaintext\">Cucullia</div></td><td><div class=\"dni-plaintext\">1</div></td></tr><tr><td>16</td><td><div class=\"dni-plaintext\">Cydia</div></td><td><div class=\"dni-plaintext\">1</div></td></tr><tr><td>17</td><td><div class=\"dni-plaintext\">Deilephila</div></td><td><div class=\"dni-plaintext\">2</div></td></tr><tr><td>18</td><td><div class=\"dni-plaintext\">Denisia</div></td><td><div class=\"dni-plaintext\">1</div></td></tr><tr><td>19</td><td><div class=\"dni-plaintext\">Diarsia</div></td><td><div class=\"dni-plaintext\">1</div></td></tr><tr><td colspan=\"3\">(30 more)</td></tr></tbody></table>"
     }
    }
   ],
   "source": [
    "var eventID = archive.CoreFile.ToDynamic()\r\n",
    "    .Skip(1)  //<== Change this number to see other events\r\n",
    "    .First()\r\n",
    "    .eventID;\r\n",
    "\r\n",
    "display(eventID);\r\n",
    "\r\n",
    "var eventOccurrences = archive.Extensions.GetFileReaderByFileName(\"occurrence.txt\").ToDynamic();    \r\n",
    "\r\n",
    "var data = eventOccurrences\r\n",
    "    .Where(n => n.eventID == eventID)\r\n",
    "    .GroupBy(n => n.genus)\r\n",
    "    .Select(g => new{\r\n",
    "        genus = g.First().genus,\r\n",
    "        count = g.Sum(c => int.Parse(c.individualCount))\r\n",
    "    });\r\n",
    "data"
   ]
  }
 ],
 "metadata": {
  "kernelspec": {
   "display_name": ".NET (C#)",
   "language": "C#",
   "metadata": {
    "interpreter": {
     "hash": "06a136a4bec6dd37550f67c12f0bc3840a5b46fcffdfeab5f0089641cb553d70"
    }
   },
   "name": ".net-csharp"
  },
  "language_info": {
   "codemirror_mode": {
    "name": "ipython",
    "version": 3
   },
   "file_extension": ".py",
   "mimetype": "text/x-python",
   "name": "python",
   "nbconvert_exporter": "python",
   "pygments_lexer": "ipython3",
   "version": "3.8.7"
  },
  "orig_nbformat": 2
 },
 "nbformat": 4,
 "nbformat_minor": 2
}