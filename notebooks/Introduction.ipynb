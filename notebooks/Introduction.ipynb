{
  "cells": [
    {
      "cell_type": "markdown",
      "metadata": {},
      "source": [
        "# Using DwC-A_dotnet.Interactive\n",
        "\n",
        "This notebook describes how to use DwC-A_dotnet and DwC-A_dotnet.Interactive to interactively query Darwin Core Archive files and plot your results.\n",
        "\n",
        "Information on the dotnet libraries used here may be found at \n",
        "\n",
        "|Library|Link|\n",
        "|---|---|\n",
        "|DwC-A_dotnet|https://github.com/pjoiner/DwC-A_dotnet|\n",
        "|DwC-A_dotnet.Interactive|https://github.com/pjoiner/DwC-A_dotnet.Interactive|"
      ]
    },
    {
      "cell_type": "markdown",
      "metadata": {},
      "source": [
        "## Installation\n",
        "\n",
        "Use the #r magic command to install the libraries from NuGet."
      ]
    },
    {
      "cell_type": "code",
      "execution_count": 1,
      "metadata": {
        "dotnet_interactive": {
          "language": "csharp"
        }
      },
      "source": [
        "#r \"nuget:DwC-A_dotnet,0.5.1\"\n",
        "#r \"nuget:DwC-A_dotnet.Interactive,0.1.1-Pre\""
      ],
      "outputs": []
    },
    {
      "cell_type": "markdown",
      "metadata": {},
      "source": [
        "## Open An Archive\n",
        "Use the `ArchiveReader` class to open the archive and provide the path to your archive.  It is recommended that the archive be unzipped to a directory first to reduce the overhead of creating a temporary folder to unzip the archive.  If you use the zip file remember to dispose of the temporary working directory at the end of you session by calling `archive.Dispose();`"
      ]
    },
    {
      "cell_type": "code",
      "execution_count": 1,
      "metadata": {
        "dotnet_interactive": {
          "language": "csharp"
        }
      },
      "source": [
        "using DwC_A;\n",
        "\n",
        "var archive = new ArchiveReader(@\"./data/dwca-rooftop-v1.4\");"
      ],
      "outputs": []
    },
    {
      "cell_type": "markdown",
      "metadata": {},
      "source": [
        "## Archive MetaData\n",
        "The interactive extensions library (`DwC-A_dotnet.Interactive`) registers kernel extensions to display various archive metadata by simply entering MetaData at the end of a cell.  The same can be done for an `IFileReader` instance to get a list of the term metadata."
      ]
    },
    {
      "cell_type": "code",
      "execution_count": 1,
      "metadata": {
        "dotnet_interactive": {
          "language": "csharp"
        }
      },
      "source": [
        "archive.MetaData"
      ],
      "outputs": []
    },
    {
      "cell_type": "code",
      "execution_count": 1,
      "metadata": {
        "dotnet_interactive": {
          "language": "csharp"
        }
      },
      "source": [
        "archive.CoreFile"
      ],
      "outputs": []
    },
    {
      "cell_type": "code",
      "execution_count": 1,
      "metadata": {
        "dotnet_interactive": {
          "language": "csharp"
        }
      },
      "source": [
        "archive.Extensions.GetFileReaderByFileName(\"occurrence.txt\")"
      ],
      "outputs": []
    },
    {
      "cell_type": "markdown",
      "metadata": {},
      "source": [
        "## ToDynamic Extension Methods\n",
        "A row may be converted to a `dynamic` object using the `ToDynamic()` function from the `DwC_A.Interactive.Extensions` namespace.  Each field will be accessable by using the short name for the Term for a row.  The following cell displays a subset of event data from the first 5 rows of the dataset."
      ]
    },
    {
      "cell_type": "code",
      "execution_count": 1,
      "metadata": {
        "dotnet_interactive": {
          "language": "csharp"
        }
      },
      "source": [
        "using DwC_A_dotnet.Interactive.Extensions;\n",
        "\n",
        "//This will return an IEnumerable<dynamic>\n",
        "var dynRows = archive.CoreFile.ToDynamic();\n",
        "foreach(var dynRow in dynRows.Take(5))\n",
        "{\n",
        "    var event1 = new \n",
        "    {\n",
        "        dynRow.eventID,\n",
        "        dynRow.eventDate,\n",
        "        dynRow.sampleSizeValue\n",
        "    };\n",
        "    display(event1);\n",
        "}"
      ],
      "outputs": []
    },
    {
      "cell_type": "markdown",
      "metadata": {},
      "source": [
        "## Query Data Using LinQ\n",
        "\n",
        "The following cell uses LinQ to gather a list of total individual counts of each genus for a specific sampling event.  Change the number in the `.Skip(1)` line to see totals calculated for other events. "
      ]
    },
    {
      "cell_type": "code",
      "execution_count": 1,
      "metadata": {
        "dotnet_interactive": {
          "language": "csharp"
        }
      },
      "source": [
        "var eventID = archive.CoreFile.ToDynamic()\n",
        "    .Skip(1)  //<== Change this number to see other events\n",
        "    .First()\n",
        "    .eventID;\n",
        "\n",
        "display(eventID);\n",
        "\n",
        "var eventOccurrences = archive.Extensions.GetFileReaderByFileName(\"occurrence.txt\").ToDynamic();    \n",
        "\n",
        "var data = eventOccurrences\n",
        "    .Where(n => n.eventID == eventID)\n",
        "    .GroupBy(n => n.genus)\n",
        "    .Select(g => new{\n",
        "        genus = g.First().genus,\n",
        "        count = g.Sum(c => int.Parse(c.individualCount))\n",
        "    });\n",
        "data"
      ],
      "outputs": []
    }
  ],
  "metadata": {
    "kernelspec": {
      "display_name": ".NET (C#)",
      "language": "C#",
      "name": ".net-csharp"
    },
    "language_info": {
      "file_extension": ".cs",
      "mimetype": "text/x-csharp",
      "name": "C#",
      "pygments_lexer": "csharp",
      "version": "8.0"
    }
  },
  "nbformat": 4,
  "nbformat_minor": 4
}