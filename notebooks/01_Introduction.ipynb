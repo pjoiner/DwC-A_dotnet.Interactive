{
  "cells": [
    {
      "cell_type": "markdown",
      "metadata": {},
      "source": [
        "# Using DwC-A_dotnet.Interactive\n",
        "\n",
        "This notebook describes how to use DwC-A_dotnet and DwC-A_dotnet.Interactive to work with Darwin Core Archive files.\n",
        "\n",
        "Information on the dotnet libraries used here may be found at \n",
        "\n",
        "|Library|Link|\n",
        "|---|---|\n",
        "|DwC-A_dotnet|https://github.com/pjoiner/DwC-A_dotnet|\n",
        "|DwC-A_dotnet.Interactive|https://github.com/pjoiner/DwC-A_dotnet.Interactive|\n",
        "\n",
        "Information on Darwin Core Archives may be found [here](https://dwc.tdwg.org/)."
      ]
    },
    {
      "cell_type": "markdown",
      "metadata": {},
      "source": [
        "## Installation\n",
        "\n",
        "Use the #r magic command to install the libraries from NuGet."
      ]
    },
    {
      "cell_type": "code",
      "execution_count": null,
      "metadata": {
        "dotnet_interactive": {
          "language": "csharp"
        }
      },
      "outputs": [],
      "source": [
        "#r \"nuget:DwC-A_dotnet,0.6.0\"\n",
        "#r \"nuget:DwC-A_dotnet.Interactive,0.1.9-Pre\""
      ]
    },
    {
      "cell_type": "markdown",
      "metadata": {},
      "source": [
        "## Open An Archive\n",
        "Use the `ArchiveReader` class to open the archive and provide the path to your archive.  It is recommended that the archive be unzipped to a directory first to reduce the overhead of creating a temporary folder to unzip the archive.  If you use the zip file remember to dispose of the temporary working directory at the end of your session by calling `archive.Dispose();`\n",
        "\n",
        "The test data we are using comes from the [\"Insects from light trap (1992–2009), rooftop Zoological Museum, Copenhagen\"](https://www.gbif.org/dataset/f506be53-9221-4b44-a41d-5aa0905ec216) dataset available for download from [gbif.org](https://www.gbif.org/)."
      ]
    },
    {
      "cell_type": "code",
      "execution_count": null,
      "metadata": {
        "dotnet_interactive": {
          "language": "csharp"
        }
      },
      "outputs": [],
      "source": [
        "using DwC_A;\n",
        "using System.IO.Compression;\n",
        "using System.IO;\n",
        "\n",
        "var outputPath = \"./data/dwca-rooftop-v1.4\";\n",
        "if(Directory.Exists(outputPath)) \n",
        "    Directory.Delete(outputPath, true);\n",
        "ZipFile.ExtractToDirectory(\"./data/dwca-rooftop-v1.4.zip\", outputPath);\n",
        "var archive = new ArchiveReader(@\"./data/dwca-rooftop-v1.4\");"
      ]
    },
    {
      "cell_type": "markdown",
      "metadata": {},
      "source": [
        "## Archive MetaData\n",
        "The interactive extensions library (`DwC-A_dotnet.Interactive`) registers kernel extensions to display various archive metadata by using the `display()` command or simply entering the object you are interested in at the end of a cell without a semicolon on the end.  For example, to view the metadata for an archive enter `<archiveName>.MetaData` as shown below.  The same can be done for an `IFileReader` instance to get a list of the term metadata for a file."
      ]
    },
    {
      "cell_type": "code",
      "execution_count": null,
      "metadata": {
        "dotnet_interactive": {
          "language": "csharp"
        }
      },
      "outputs": [],
      "source": [
        "archive.MetaData"
      ]
    },
    {
      "cell_type": "code",
      "execution_count": null,
      "metadata": {
        "dotnet_interactive": {
          "language": "csharp"
        }
      },
      "outputs": [],
      "source": [
        "archive.CoreFile"
      ]
    },
    {
      "cell_type": "code",
      "execution_count": null,
      "metadata": {
        "dotnet_interactive": {
          "language": "csharp"
        }
      },
      "outputs": [],
      "source": [
        "archive.Extensions.GetFileReaderByFileName(\"occurrence.txt\")"
      ]
    },
    {
      "cell_type": "markdown",
      "metadata": {},
      "source": [
        "## Displaying Data\n",
        "\n",
        "Data from a file can be displayed using the `DataRows` property of an `IFileReader`.  For example, the first 10 rows of the Core event file from the sample archive can be displayed as follows."
      ]
    },
    {
      "cell_type": "code",
      "execution_count": null,
      "metadata": {
        "dotnet_interactive": {
          "language": "csharp"
        }
      },
      "outputs": [],
      "source": [
        "archive.CoreFile.DataRows.Take(50)"
      ]
    },
    {
      "cell_type": "markdown",
      "metadata": {},
      "source": [
        "## Accessing Individual Fields\n",
        "\n",
        "The DataRows property of a FileReader can be enumerated using a `foreach` loop or LinQ queries.  The individual fields of each row can be accessed by using an index or the name of the term associated with the field or column.\n",
        "\n",
        "Use the Terms class of the `DwC_A.Terms` namespace as a shortcut to typing in the fully qualified name of the term."
      ]
    },
    {
      "cell_type": "code",
      "execution_count": null,
      "metadata": {
        "dotnet_interactive": {
          "language": "csharp"
        }
      },
      "outputs": [],
      "source": [
        "using DwC_A.Terms;\n",
        "\n",
        "foreach(var row in archive.CoreFile.DataRows.Take(1))\n",
        "{\n",
        "    Console.Write($\"type: {row[1]}\\t\"); //Use the index value to get the type column\n",
        "    Console.Write($\"EventID: {row[\"http://rs.tdwg.org/dwc/terms/eventID\"]}\\t\"); //USe the fully qualified name of the term\n",
        "    Console.WriteLine($\"Event Date: {row[Terms.eventDate]}\"); //Use the Terms class\n",
        "}"
      ]
    },
    {
      "cell_type": "markdown",
      "metadata": {},
      "source": [
        "## The Terms Command\n",
        "\n",
        "Use the `#!terms` magic command to list the available terms and a brief explanation of their use."
      ]
    },
    {
      "cell_type": "code",
      "execution_count": null,
      "metadata": {
        "dotnet_interactive": {
          "language": "csharp"
        }
      },
      "outputs": [],
      "source": [
        "#!terms"
      ]
    },
    {
      "cell_type": "markdown",
      "metadata": {},
      "source": [
        "## Query Data Using LinQ\n",
        "\n",
        "The following cell uses LinQ to gather a list of total individual counts of each genus for a specific sampling event.  Change the number in the `.Skip(1)` line to see totals calculated for other events. "
      ]
    },
    {
      "cell_type": "code",
      "execution_count": null,
      "metadata": {
        "dotnet_interactive": {
          "language": "csharp"
        }
      },
      "outputs": [],
      "source": [
        "using DwC_A.Terms;\n",
        "\n",
        "//Retrieve the eventID from the event data file\n",
        "var eventID = archive.CoreFile.DataRows\n",
        "    .Skip(5)  //Change this number and run the cell again and to see the data for a new eventID\n",
        "    .Take(1)\n",
        "    .First()[Terms.eventID];\n",
        "\n",
        "//Get an IFileReader for the occurrence data file\n",
        "var occurrences = archive.Extensions.GetFileReaderByFileName(\"occurrence.txt\");\n",
        "\n",
        "var data = occurrences.DataRows\n",
        "    .Where(n => n[Terms.eventID] == eventID)\n",
        "    .GroupBy(n => n[Terms.genus])\n",
        "    .Select(g => new{\n",
        "        Genus = g.Key,\n",
        "        Count = g.Sum(c => int.Parse(c[Terms.individualCount])) \n",
        "    }); \n",
        "\n",
        "data"
      ]
    }
  ],
  "metadata": {
    "kernelspec": {
      "display_name": ".NET (C#)",
      "language": "C#",
      "name": ".net-csharp"
    },
    "language_info": {
      "file_extension": ".cs",
      "mimetype": "text/x-csharp",
      "name": "C#",
      "pygments_lexer": "csharp",
      "version": "8.0"
    }
  },
  "nbformat": 4,
  "nbformat_minor": 4
}
