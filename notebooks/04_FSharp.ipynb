{
 "cells": [
  {
   "cell_type": "markdown",
   "metadata": {},
   "source": [
    "# Use DwC-A_dotnet with F#\r\n",
    "\r\n",
    "DwC-A_dotnet can be used with F# as well as C#.  The NuGet library installation and ArchiveReader/FileReader formatters work in the same way as they do for C#.\r\n",
    "\r\n",
    "Here we'll use the Papilionidae dataset to demonstrate reading latitude and longitude information from the occurrence data file and plot it on a map of Texas with Plotly."
   ]
  },
  {
   "cell_type": "code",
   "execution_count": null,
   "metadata": {},
   "outputs": [],
   "source": [
    "#r \"nuget:Plotly.NET,2.0.0-beta8\"\r\n",
    "#r \"nuget:Plotly.NET.Interactive,2.0.0-beta8\"\r\n",
    "#r \"nuget:FSharp.Data\"\r\n",
    "#r \"nuget:DwC-A_dotnet,0.5.1\"\r\n",
    "#r \"nuget:DwC-A_dotnet.Interactive,0.1.6-Pre\""
   ]
  },
  {
   "cell_type": "code",
   "execution_count": null,
   "metadata": {},
   "outputs": [],
   "source": [
    "open DwC_A\r\n",
    "open DwC_A.Terms\r\n",
    "open DwC_A.Factories\r\n",
    "open DwC_A.Config\r\n",
    "open System.IO\r\n",
    "\r\n",
    "let archiveFile = \"./data/Papilionidae.zip\"\r\n",
    "let factory = new DefaultFactory(fun cfg -> \r\n",
    "    cfg.Add<ArchiveFolderConfiguration>( fun cfg -> \r\n",
    "        cfg.OutputPath <- \"./Papilionidae\"\r\n",
    "        Directory.Delete(cfg.OutputPath, true) ))\r\n",
    "let archive = new ArchiveReader(archiveFile, factory);\r\n",
    "\r\n",
    "let occurrence = archive.CoreFile;\r\n",
    "occurrence"
   ]
  },
  {
   "cell_type": "code",
   "execution_count": null,
   "metadata": {},
   "outputs": [],
   "source": [
    "open System.Linq\r\n",
    "open Plotly.NET\r\n",
    "\r\n",
    "let lonlat = occurrence.DataRows\r\n",
    "                    .Where(fun row -> row.[Terms.decimalLongitude] <> null && row.[Terms.decimalLatitude] <> null)\r\n",
    "                    .Select(fun row -> ( $\"{row.[Terms.genus]} {row.[Terms.specificEpithet]}\", \r\n",
    "                                            row.[Terms.decimalLongitude] |> double, \r\n",
    "                                            row.[Terms.decimalLatitude] |> double) )\r\n",
    "                    .GroupBy(fun row -> match row with (a, b, c) -> a)\r\n",
    "                    .Select(fun group -> (group.Key, group.Select(fun row -> match row with (a, b, c) -> (b, c))))\r\n",
    "\r\n",
    "let geo = lonlat.Select(fun row -> \r\n",
    "                            match row with (a, b) -> \r\n",
    "                                            Chart.ScatterGeo(b, \r\n",
    "                                                mode=StyleParam.Mode.Markers,\r\n",
    "                                                Showlegend = true)\r\n",
    "                                                |> Chart.withMarkerStyle(Size = 2) \r\n",
    "                                                |> Chart.withTraceName(a))\r\n",
    "                                                |> Chart.Combine\r\n",
    "\r\n",
    "let map = geo |> Chart.withMapStyle(\r\n",
    "                FitBounds = StyleParam.GeoFitBounds.GeoJson,\r\n",
    "                Scope = StyleParam.GeoScope.Usa,\r\n",
    "                ShowLakes = true,\r\n",
    "                ShowRivers = true,\r\n",
    "                ShowLand = true,\r\n",
    "                LandColor = \"#f1f1f1\"\r\n",
    "            )\r\n",
    "            |> Chart.withSize(height = 500.0, width = 800.0)\r\n",
    "            |> Chart.withTitle(title = \"Papilionidae of Texas\")\r\n",
    "\r\n",
    "map                 "
   ]
  }
 ],
 "metadata": {
  "kernelspec": {
   "display_name": ".NET (C#)",
   "language": "C#",
   "name": ".net-csharp"
  },
  "language_info": {
   "codemirror_mode": {
    "name": "ipython",
    "version": 3
   },
   "file_extension": ".py",
   "mimetype": "text/x-python",
   "name": "python",
   "nbconvert_exporter": "python",
   "pygments_lexer": "ipython3",
   "version": "3.7.7"
  },
  "orig_nbformat": 2
 },
 "nbformat": 4,
 "nbformat_minor": 2
}