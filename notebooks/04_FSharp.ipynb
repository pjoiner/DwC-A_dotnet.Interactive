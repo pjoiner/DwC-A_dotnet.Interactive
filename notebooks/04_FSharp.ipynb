{
  "cells": [
    {
      "cell_type": "markdown",
      "metadata": {},
      "source": [
        "# Use DwC-A_dotnet with F#\n",
        "\n",
        "DwC-A_dotnet can be used with F# as well as C#.  The NuGet library installation and ArchiveReader/FileReader formatters work in the same way as they do for C#.\n",
        "\n",
        "Here we'll use the Papilionidae dataset to demonstrate reading latitude and longitude information from the occurrence data file and plot it on a map of Texas with Plotly.\n",
        "\n",
        "**Import Note:** If you are using this notebook from Binder make sure to select **Kernel -> Change Kernel -> .NET (F#)** before running any of the cells below."
      ]
    },
    {
      "cell_type": "code",
      "execution_count": 1,
      "metadata": {
        "dotnet_interactive": {
          "language": "fsharp"
        }
      },
      "outputs": [],
      "source": [
        "#r \"nuget:Plotly.NET,2.0.0-preview.15\"\n",
        "#r \"nuget:Plotly.NET.Interactive,2.0.0-preview.15\"\n",
        "#r \"nuget:FSharp.Data,4.2.5\"\n",
        "#r \"nuget:DwC-A_dotnet,0.6.0\"\n",
        "#r \"nuget:DwC-A_dotnet.Interactive,0.1.9-Pre\""
      ]
    },
    {
      "cell_type": "code",
      "execution_count": 1,
      "metadata": {
        "dotnet_interactive": {
          "language": "fsharp"
        }
      },
      "outputs": [],
      "source": [
        "open DwC_A\n",
        "open DwC_A.Terms\n",
        "open DwC_A.Factories\n",
        "open DwC_A.Config\n",
        "open System.IO\n",
        "\n",
        "let archiveFile = \"./data/Papilionidae.zip\"\n",
        "let factory = new DefaultFactory(fun cfg -> \n",
        "    cfg.Add<ArchiveFolderConfiguration>( fun cfg -> \n",
        "        cfg.OutputPath <- \"./Papilionidae\"\n",
        "        if(Directory.Exists(cfg.OutputPath)) then\n",
        "            Directory.Delete(cfg.OutputPath, true) ))\n",
        "let archive = new ArchiveReader(archiveFile, factory);\n",
        "\n",
        "let occurrence = archive.CoreFile;\n",
        "occurrence"
      ]
    },
    {
      "cell_type": "code",
      "execution_count": 1,
      "metadata": {
        "dotnet_interactive": {
          "language": "fsharp"
        }
      },
      "outputs": [],
      "source": [
        "open System.Linq\n",
        "open Plotly.NET\n",
        "\n",
        "let lonlat = occurrence.DataRows\n",
        "                    .Where(fun row -> row.[Terms.decimalLongitude] <> null && row.[Terms.decimalLatitude] <> null)\n",
        "                    .Select(fun row -> ( $\"{row.[Terms.genus]} {row.[Terms.specificEpithet]}\", \n",
        "                                            row.[Terms.decimalLongitude] |> double, \n",
        "                                            row.[Terms.decimalLatitude] |> double) )\n",
        "                    .GroupBy(fun row -> match row with (a, b, c) -> a)\n",
        "                    .Select(fun group -> (group.Key, group.Select(fun row -> match row with (a, b, c) -> (b, c))))\n",
        "\n",
        "let geo = lonlat.Select(fun row -> \n",
        "                            match row with (a, b) -> \n",
        "                                            Chart.ScatterGeo(b, \n",
        "                                                mode=StyleParam.Mode.Markers,\n",
        "                                                ShowLegend = true)\n",
        "                                                |> Chart.withMarkerStyle(Size = 2) \n",
        "                                                |> Chart.withTraceName(a))\n",
        "                                                |> Chart.combine\n",
        "\n",
        "let map = geo |> Chart.withGeoStyle(\n",
        "                FitBounds = StyleParam.GeoFitBounds.GeoJson,\n",
        "                Scope = StyleParam.GeoScope.Usa,\n",
        "                ShowLakes = true,\n",
        "                ShowRivers = true,\n",
        "                ShowLand = true,\n",
        "                LandColor = Color.fromHex(\"#f1f1f1\")\n",
        "            )\n",
        "            |> Chart.withSize(height = 500.0, width = 800.0)\n",
        "            |> Chart.withTitle(title = \"Papilionidae of Texas\")\n",
        "\n",
        "map                 "
      ]
    }
  ],
  "metadata": {
    "kernelspec": {
      "display_name": ".NET (C#)",
      "language": "C#",
      "name": ".net-csharp"
    },
    "language_info": {
      "file_extension": ".cs",
      "mimetype": "text/x-csharp",
      "name": "C#",
      "pygments_lexer": "csharp",
      "version": "8.0"
    }
  },
  "nbformat": 4,
  "nbformat_minor": 4
}
